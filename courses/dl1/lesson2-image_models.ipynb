{
 "cells": [
  {
   "cell_type": "markdown",
   "metadata": {},
   "source": [
    "# Other types of image model"
   ]
  },
  {
   "cell_type": "code",
   "execution_count": 1,
   "metadata": {
    "collapsed": true
   },
   "outputs": [],
   "source": [
    "%reload_ext autoreload\n",
    "%autoreload 2\n",
    "%matplotlib inline"
   ]
  },
  {
   "cell_type": "code",
   "execution_count": 2,
   "metadata": {
    "collapsed": true
   },
   "outputs": [],
   "source": [
    "from fastai.imports import *\n",
    "from fastai.transforms import *\n",
    "from fastai.conv_learner import *\n",
    "from fastai.model import *\n",
    "from fastai.dataset import *\n",
    "from fastai.sgdr import *"
   ]
  },
  {
   "cell_type": "markdown",
   "metadata": {},
   "source": [
    "## Multi-label classification"
   ]
  },
  {
   "cell_type": "markdown",
   "metadata": {},
   "source": [
    "### First model"
   ]
  },
  {
   "cell_type": "code",
   "execution_count": 3,
   "metadata": {
    "collapsed": true
   },
   "outputs": [],
   "source": [
    "from planet import f2\n",
    "\n",
    "sz=256\n",
    "metrics=[f2]\n",
    "f_model = resnet34\n",
    "PATH = \"data/planet/\""
   ]
  },
  {
   "cell_type": "code",
   "execution_count": 4,
   "metadata": {
    "collapsed": true
   },
   "outputs": [],
   "source": [
    "label_csv = f'{PATH}train_v2.csv'\n",
    "n = len(list(open(label_csv)))-1\n",
    "val_idxs = get_cv_idxs(n)"
   ]
  },
  {
   "cell_type": "code",
   "execution_count": 5,
   "metadata": {
    "collapsed": true
   },
   "outputs": [],
   "source": [
    "tfms = tfms_from_model(f_model, sz, aug_tfms=transforms_top_down, max_zoom=1.05)\n",
    "data = ImageClassifierData.from_csv(PATH, 'train-jpg', label_csv, tfms=tfms,\n",
    "                            suffix='.jpg', val_idxs=val_idxs, test_name='test-jpg')"
   ]
  },
  {
   "cell_type": "code",
   "execution_count": 6,
   "metadata": {},
   "outputs": [],
   "source": [
    "learn = ConvLearner.pretrained(f_model, data, precompute=True, metrics=metrics)"
   ]
  },
  {
   "cell_type": "code",
   "execution_count": 6,
   "metadata": {},
   "outputs": [
    {
     "data": {
      "application/vnd.jupyter.widget-view+json": {
       "model_id": "74dc024dcc3945aa8db9608bf0961271",
       "version_major": 2,
       "version_minor": 0
      },
      "text/plain": [
       "A Jupyter Widget"
      ]
     },
     "metadata": {},
     "output_type": "display_data"
    },
    {
     "name": "stdout",
     "output_type": "stream",
     "text": [
      "[ 0.      0.208   0.2846  0.8416]                             \n",
      "\n"
     ]
    }
   ],
   "source": [
    "lrf=learn.lr_find()"
   ]
  },
  {
   "cell_type": "code",
   "execution_count": 7,
   "metadata": {},
   "outputs": [
    {
     "data": {
      "image/png": "[encoded data removed]",
      "text/plain": [
       "<matplotlib.figure.Figure at 0x7ff0cc03b588>"
      ]
     },
     "metadata": {},
     "output_type": "display_data"
    }
   ],
   "source": [
    "learn.sched.plot()"
   ]
  },
  {
   "cell_type": "code",
   "execution_count": 7,
   "metadata": {},
   "outputs": [
    {
     "data": {
      "application/vnd.jupyter.widget-view+json": {
       "model_id": "723b459ad7404c59992441c1967845eb",
       "version_major": 2,
       "version_minor": 0
      },
      "text/plain": [
       "A Jupyter Widget"
      ]
     },
     "metadata": {},
     "output_type": "display_data"
    },
    {
     "name": "stdout",
     "output_type": "stream",
     "text": [
      "[ 0.      0.1275  0.1097  0.9065]                             \n",
      "[ 1.      0.1214  0.1047  0.914 ]                             \n",
      "\n"
     ]
    }
   ],
   "source": [
    "learn.fit(0.2, 2)"
   ]
  },
  {
   "cell_type": "code",
   "execution_count": 8,
   "metadata": {},
   "outputs": [
    {
     "data": {
      "application/vnd.jupyter.widget-view+json": {
       "model_id": "90c95c3d1e8c47e3be3bad6f9e1b1e51",
       "version_major": 2,
       "version_minor": 0
      },
      "text/plain": [
       "A Jupyter Widget"
      ]
     },
     "metadata": {},
     "output_type": "display_data"
    },
    {
     "name": "stdout",
     "output_type": "stream",
     "text": [
      "[ 0.      0.1156  0.1029  0.9147]                             \n",
      "[ 1.      0.1134  0.1021  0.916 ]                             \n",
      "[ 2.      0.1157  0.1009  0.9157]                             \n",
      "[ 3.      0.1094  0.1006  0.9166]                             \n",
      "[ 4.      0.1092  0.0993  0.9186]                             \n",
      "[ 5.      0.1081  0.0988  0.9187]                             \n",
      "[ 6.      0.1048  0.0984  0.9181]                             \n",
      "[ 7.      0.1026  0.0984  0.919 ]                             \n",
      "[ 8.      0.1041  0.0978  0.9196]                             \n",
      "[ 9.      0.102   0.0975  0.92  ]                             \n",
      "[ 10.       0.1049   0.0975   0.9183]                         \n",
      "[ 11.       0.1051   0.0989   0.915 ]                         \n",
      "[ 12.       0.1042   0.0972   0.9187]                         \n",
      "[ 13.       0.1006   0.0973   0.9196]                          \n",
      "[ 14.       0.1027   0.0973   0.9196]                          \n",
      "\n"
     ]
    }
   ],
   "source": [
    "learn.fit(0.2, 15)"
   ]
  },
  {
   "cell_type": "code",
   "execution_count": 9,
   "metadata": {},
   "outputs": [
    {
     "data": {
      "application/vnd.jupyter.widget-view+json": {
       "model_id": "70df36858fbc43669d823f3049f8ebfe",
       "version_major": 2,
       "version_minor": 0
      },
      "text/plain": [
       "A Jupyter Widget"
      ]
     },
     "metadata": {},
     "output_type": "display_data"
    },
    {
     "name": "stdout",
     "output_type": "stream",
     "text": [
      "[ 0.      0.1171  0.1021  0.9155]                            \n",
      "[ 1.      0.118   0.1019  0.9142]                            \n",
      "[ 2.      0.1155  0.1008  0.9163]                            \n",
      "[ 3.      0.1155  0.1018  0.9155]                            \n",
      "[ 4.      0.115   0.1002  0.9168]                            \n",
      "[ 5.      0.1123  0.0995  0.9174]                            \n",
      "[ 6.      0.1106  0.0991  0.9178]                            \n",
      "\n"
     ]
    }
   ],
   "source": [
    "learn.precompute=False\n",
    "learn.fit(0.2, 3, cycle_len=1, cycle_mult=2)"
   ]
  },
  {
   "cell_type": "code",
   "execution_count": 10,
   "metadata": {},
   "outputs": [
    {
     "data": {
      "image/png": "[encoded data removed]",
      "text/plain": [
       "<matplotlib.figure.Figure at 0x7fefdd52db70>"
      ]
     },
     "metadata": {},
     "output_type": "display_data"
    }
   ],
   "source": [
    "learn.sched.plot_lr()"
   ]
  },
  {
   "cell_type": "code",
   "execution_count": 12,
   "metadata": {
    "collapsed": true
   },
   "outputs": [],
   "source": [
    "learn.unfreeze()\n",
    "lrs = np.array([0.02,0.07,0.2])\n",
    "learn.precompute=False"
   ]
  },
  {
   "cell_type": "code",
   "execution_count": 13,
   "metadata": {
    "collapsed": true
   },
   "outputs": [],
   "source": [
    "learn.save('256_fc')"
   ]
  },
  {
   "cell_type": "code",
   "execution_count": 14,
   "metadata": {},
   "outputs": [
    {
     "data": {
      "application/vnd.jupyter.widget-view+json": {
       "model_id": "c77d40e5f80c4600a83c571f96c0ebb6",
       "version_major": 2,
       "version_minor": 0
      },
      "text/plain": [
       "A Jupyter Widget"
      ]
     },
     "metadata": {},
     "output_type": "display_data"
    },
    {
     "name": "stdout",
     "output_type": "stream",
     "text": [
      "[ 0.      0.102   0.0874  0.928 ]                            \n",
      "[ 1.      0.0976  0.0835  0.931 ]                             \n",
      "[ 2.      0.0902  0.0813  0.9336]                             \n",
      "[ 3.      0.0957  0.0835  0.9311]                             \n",
      "[ 4.      0.0907  0.081   0.933 ]                             \n",
      "[ 5.      0.0881  0.0788  0.9355]                             \n",
      "[ 6.      0.0835  0.0783  0.9358]                             \n",
      "\n"
     ]
    }
   ],
   "source": [
    "learn.fit(lrs, 3, cycle_len=1, cycle_mult=2)"
   ]
  },
  {
   "cell_type": "code",
   "execution_count": 15,
   "metadata": {},
   "outputs": [
    {
     "data": {
      "image/png": "[encoded data removed]",
      "text/plain": [
       "<matplotlib.figure.Figure at 0x7fefdc3686a0>"
      ]
     },
     "metadata": {},
     "output_type": "display_data"
    }
   ],
   "source": [
    "learn.sched.plot_loss()"
   ]
  },
  {
   "cell_type": "markdown",
   "metadata": {},
   "source": [
    "### Increasing resolution during training"
   ]
  },
  {
   "cell_type": "code",
   "execution_count": 5,
   "metadata": {
    "collapsed": true
   },
   "outputs": [],
   "source": [
    "def get_data(sz):\n",
    "    tfms = tfms_from_model(f_model, sz, aug_tfms=transforms_top_down, max_zoom=1.05)\n",
    "    return ImageClassifierData.from_csv(PATH, 'train-jpg', label_csv, tfms=tfms,\n",
    "                    suffix='.jpg', val_idxs=val_idxs, test_name='test-jpg')"
   ]
  },
  {
   "cell_type": "code",
   "execution_count": 6,
   "metadata": {
    "scrolled": false
   },
   "outputs": [
    {
     "data": {
      "application/vnd.jupyter.widget-view+json": {
       "model_id": "3b893e2790924be1a3cb2f43e8688395",
       "version_major": 2,
       "version_minor": 0
      },
      "text/plain": [
       "A Jupyter Widget"
      ]
     },
     "metadata": {},
     "output_type": "display_data"
    },
    {
     "name": "stdout",
     "output_type": "stream",
     "text": [
      "[ 0.      0.1979  0.217   0.8397]                             \n",
      "\n"
     ]
    },
    {
     "data": {
      "image/png": "[encoded data removed]",
      "text/plain": [
       "<matplotlib.figure.Figure at 0x7f0c684363c8>"
      ]
     },
     "metadata": {},
     "output_type": "display_data"
    }
   ],
   "source": [
    "data = get_data(256)\n",
    "learn = ConvLearner.pretrained(f_model, data, precompute=True, metrics=metrics)\n",
    "lrf=learn.lr_find()\n",
    "learn.sched.plot()"
   ]
  },
  {
   "cell_type": "code",
   "execution_count": 7,
   "metadata": {
    "collapsed": true
   },
   "outputs": [],
   "source": [
    "lr = 0.2\n",
    "lrs = np.array([lr/10, lr/3, lr])\n",
    "learn.precompute=False"
   ]
  },
  {
   "cell_type": "code",
   "execution_count": 8,
   "metadata": {
    "collapsed": true
   },
   "outputs": [],
   "source": [
    "def train_sz(sz):\n",
    "    learn.set_data(get_data(sz))\n",
    "    learn.freeze()\n",
    "    learn.fit(lr, 3, cycle_len=1, cycle_mult=2)\n",
    "    learn.unfreeze()\n",
    "    learn.save(f'{sz}_fc')\n",
    "    learn.fit(lrs, 3, cycle_len=1, cycle_mult=2)\n",
    "    learn.save(f'{sz}')"
   ]
  },
  {
   "cell_type": "code",
   "execution_count": 9,
   "metadata": {},
   "outputs": [
    {
     "name": "stdout",
     "output_type": "stream",
     "text": [
      "64\n"
     ]
    },
    {
     "data": {
      "application/vnd.jupyter.widget-view+json": {
       "model_id": "6cdb7a618796414ab14ca05116adc3ed",
       "version_major": 2,
       "version_minor": 0
      },
      "text/plain": [
       "A Jupyter Widget"
      ]
     },
     "metadata": {},
     "output_type": "display_data"
    },
    {
     "name": "stdout",
     "output_type": "stream",
     "text": [
      "[ 0.      0.1443  0.1288  0.8879]                            \n",
      "[ 1.      0.1398  0.1225  0.8952]                            \n",
      "[ 2.      0.1349  0.1212  0.8964]                            \n",
      "[ 3.      0.1379  0.1195  0.8986]                            \n",
      "[ 4.      0.1336  0.1177  0.9007]                            \n",
      "[ 5.      0.1297  0.1172  0.9002]                            \n",
      "[ 6.      0.1322  0.1161  0.9018]                            \n",
      "\n"
     ]
    },
    {
     "data": {
      "application/vnd.jupyter.widget-view+json": {
       "model_id": "79046e5a690e4dacbbf4903a89f45a7f",
       "version_major": 2,
       "version_minor": 0
      },
      "text/plain": [
       "A Jupyter Widget"
      ]
     },
     "metadata": {},
     "output_type": "display_data"
    },
    {
     "name": "stdout",
     "output_type": "stream",
     "text": [
      "[ 0.      0.1194  0.101   0.9176]                            \n",
      "[ 1.      0.1127  0.099   0.9167]                            \n",
      "[ 2.      0.1066  0.0939  0.9224]                            \n",
      "[ 3.      0.1086  0.0951  0.9227]                            \n",
      "[ 4.      0.1061  0.0918  0.9258]                            \n",
      "[ 5.      0.0983  0.0897  0.9261]                             \n",
      "[ 6.      0.0955  0.0894  0.9259]                             \n",
      "\n",
      "----\n",
      "128\n",
      "100%|██████████| 506/506 [00:27<00:00, 18.39it/s]\n",
      "100%|██████████| 127/127 [00:09<00:00, 13.34it/s]\n"
     ]
    },
    {
     "data": {
      "application/vnd.jupyter.widget-view+json": {
       "model_id": "4177fac7c3bd4bbb9c4eb146515e04f6",
       "version_major": 2,
       "version_minor": 0
      },
      "text/plain": [
       "A Jupyter Widget"
      ]
     },
     "metadata": {},
     "output_type": "display_data"
    },
    {
     "name": "stdout",
     "output_type": "stream",
     "text": [
      "[ 0.      0.1005  0.0885  0.9262]                             \n",
      "[ 1.      0.0984  0.0878  0.9267]                             \n",
      "[ 2.      0.0956  0.087   0.9272]                             \n",
      "[ 3.      0.099   0.0872  0.9273]                             \n",
      "[ 4.      0.0933  0.0864  0.9289]                             \n",
      "[ 5.      0.0937  0.0858  0.9286]                             \n",
      "[ 6.      0.0925  0.086   0.9281]                             \n",
      "\n"
     ]
    },
    {
     "data": {
      "application/vnd.jupyter.widget-view+json": {
       "model_id": "e352bce71e484ff28d70f10a2483a542",
       "version_major": 2,
       "version_minor": 0
      },
      "text/plain": [
       "A Jupyter Widget"
      ]
     },
     "metadata": {},
     "output_type": "display_data"
    },
    {
     "name": "stdout",
     "output_type": "stream",
     "text": [
      "[ 0.      0.0938  0.0826  0.9323]                             \n",
      "[ 1.      0.0938  0.0836  0.9315]                             \n",
      "[ 2.      0.0895  0.0812  0.9334]                             \n",
      "[ 3.      0.0944  0.0845  0.9298]                             \n",
      "[ 4.      0.089   0.0814  0.9332]                             \n",
      "[ 5.      0.0841  0.0802  0.934 ]                             \n",
      "[ 6.      0.0838  0.0797  0.9345]                             \n",
      "\n",
      "----\n",
      "256\n"
     ]
    },
    {
     "data": {
      "application/vnd.jupyter.widget-view+json": {
       "model_id": "815f6cd44f4d43489bcb3223995925bd",
       "version_major": 2,
       "version_minor": 0
      },
      "text/plain": [
       "A Jupyter Widget"
      ]
     },
     "metadata": {},
     "output_type": "display_data"
    },
    {
     "name": "stdout",
     "output_type": "stream",
     "text": [
      "[ 0.      0.0906  0.0851  0.9283]                             \n",
      "[ 1.      0.0894  0.0838  0.9305]                             \n",
      "[ 2.      0.0881  0.0834  0.931 ]                             \n",
      "[ 3.      0.0906  0.0831  0.9313]                             \n",
      "[ 4.      0.0898  0.0828  0.9314]                             \n",
      "[ 5.      0.0889  0.0828  0.9304]                             \n",
      "[ 6.      0.0877  0.0829  0.9307]                             \n",
      "\n"
     ]
    },
    {
     "data": {
      "application/vnd.jupyter.widget-view+json": {
       "model_id": "70b852443ec14c9e93e20b7b1c540f6a",
       "version_major": 2,
       "version_minor": 0
      },
      "text/plain": [
       "A Jupyter Widget"
      ]
     },
     "metadata": {},
     "output_type": "display_data"
    },
    {
     "name": "stdout",
     "output_type": "stream",
     "text": [
      "[ 0.      0.0878  0.0793  0.9351]                             \n",
      "[ 1.      0.0896  0.0793  0.9354]                             \n",
      "[ 2.      0.0852  0.0783  0.9356]                             \n",
      "[ 3.      0.0862  0.0807  0.934 ]                             \n",
      "[ 4.      0.0843  0.0784  0.9366]                             \n",
      "[ 5.      0.0796  0.0778  0.9368]                             \n",
      "[ 6.      0.0793  0.0776  0.9367]                             \n",
      "\n",
      "----\n"
     ]
    }
   ],
   "source": [
    "for sz in (64,128,256):\n",
    "    print(sz)\n",
    "    train_sz(sz)\n",
    "    print('----')"
   ]
  },
  {
   "cell_type": "code",
   "execution_count": null,
   "metadata": {
    "collapsed": true
   },
   "outputs": [],
   "source": []
  }
 ],
 "metadata": {
  "kernelspec": {
   "display_name": "Python 3",
   "language": "python",
   "name": "python3"
  },
  "language_info": {
   "codemirror_mode": {
    "name": "ipython",
    "version": 3
   },
   "file_extension": ".py",
   "mimetype": "text/x-python",
   "name": "python",
   "nbconvert_exporter": "python",
   "pygments_lexer": "ipython3",
   "version": "3.6.2"
  }
 },
 "nbformat": 4,
 "nbformat_minor": 2
}
