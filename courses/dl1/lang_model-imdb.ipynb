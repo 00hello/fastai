{
 "cells": [
  {
   "cell_type": "code",
   "execution_count": 1,
   "metadata": {},
   "outputs": [],
   "source": [
    "%reload_ext autoreload\n",
    "%autoreload 2\n",
    "%matplotlib inline\n",
    "\n",
    "from fastai.imports import *\n",
    "from fastai.torch_imports import *\n",
    "from fastai.core import *\n",
    "from fastai.model import fit\n",
    "from fastai.dataset import *\n",
    "\n",
    "import torchtext\n",
    "from torchtext import vocab, data\n",
    "from torchtext.datasets import language_modeling\n",
    "\n",
    "from fastai.rnn_reg import *\n",
    "from fastai.rnn_train import *\n",
    "from fastai.nlp import *\n",
    "from fastai.lm_rnn import *\n",
    "\n",
    "import dill as pickle"
   ]
  },
  {
   "cell_type": "code",
   "execution_count": 2,
   "metadata": {
    "collapsed": true
   },
   "outputs": [],
   "source": [
    "bs,bptt = 64,70"
   ]
  },
  {
   "cell_type": "markdown",
   "metadata": {
    "collapsed": true
   },
   "source": [
    "## Language modeling"
   ]
  },
  {
   "cell_type": "markdown",
   "metadata": {},
   "source": [
    "### Data"
   ]
  },
  {
   "cell_type": "code",
   "execution_count": 3,
   "metadata": {
    "collapsed": true
   },
   "outputs": [],
   "source": [
    "re_br = re.compile('<br />')\n",
    "def sub_br(x): return re_br.sub(\"\\n\", x)\n",
    "import spacy\n",
    "spacy_en = spacy.load('en')\n",
    "\n",
    "def spacy_tok(x): return [tok.text for tok in spacy_en.tokenizer(sub_br(x))]"
   ]
  },
  {
   "cell_type": "code",
   "execution_count": 4,
   "metadata": {},
   "outputs": [
    {
     "name": "stdout",
     "output_type": "stream",
     "text": [
      "aclImdb_v1.tar.gz  imdbEr.txt  imdb.vocab  \u001b[0m\u001b[01;34mmodels\u001b[0m/  README  \u001b[01;34mtest\u001b[0m/  \u001b[01;34mtmp\u001b[0m/  \u001b[01;34mtrain\u001b[0m/\r\n"
     ]
    }
   ],
   "source": [
    "PATH='data/aclImdb/'\n",
    "%ls {PATH}"
   ]
  },
  {
   "cell_type": "code",
   "execution_count": 5,
   "metadata": {
    "collapsed": true
   },
   "outputs": [],
   "source": [
    "TRN_PATH = 'train/all/'\n",
    "VAL_PATH = 'test/all/'"
   ]
  },
  {
   "cell_type": "code",
   "execution_count": 6,
   "metadata": {
    "collapsed": true
   },
   "outputs": [],
   "source": [
    "TRN = f'{PATH}{TRN_PATH}'\n",
    "VAL = f'{PATH}{VAL_PATH}'"
   ]
  },
  {
   "cell_type": "code",
   "execution_count": 72,
   "metadata": {},
   "outputs": [
    {
     "name": "stdout",
     "output_type": "stream",
     "text": [
      "0_0.txt\r\n",
      "0_3.txt\r\n",
      "0_9.txt\r\n",
      "10000_0.txt\r\n",
      "10000_4.txt\r\n",
      "10000_8.txt\r\n",
      "1000_0.txt\r\n",
      "10001_0.txt\r\n",
      "10001_10.txt\r\n",
      "10001_4.txt\r\n",
      "ls: write error\r\n"
     ]
    }
   ],
   "source": [
    "%ls {TRN} | head"
   ]
  },
  {
   "cell_type": "code",
   "execution_count": 73,
   "metadata": {},
   "outputs": [
    {
     "name": "stdout",
     "output_type": "stream",
     "text": [
      "I have to say when a name like Zombiegeddon and an atom bomb on the front cover I was expecting a flat out chop-socky fung-ku, but what I got instead was a comedy. So, it wasn't quite was I was expecting, but I really liked it anyway! The best scene ever was the main cop dude pulling those kids over and pulling a Bad Lieutenant on them!! I was laughing my ass off. I mean, the cops were just so bad! And when I say bad, I mean The Shield Vic Macky bad. But unlike that show I was laughing when they shot people and smoked dope.<br /><br />Felissa Rose...man, oh man. What can you say about that hottie. She was great and put those other actresses to shame. She should work more often!!!!! I also really liked the fight scene outside of the building. That was done really well. Lots of fighting and people getting their heads banged up. FUN! Last, but not least Joe Estevez and William Smith were great as the...well, I wasn't sure what they were, but they seemed to be having fun and throwing out lines. I mean, some of it didn't make sense with the rest of the flick, but who cares when you're laughing so hard! All in all the film wasn't the greatest thing since sliced bread, but I wasn't expecting that. It was a Troma flick so I figured it would totally suck. It's nice when something surprises you but not totally sucking.<br /><br />Rent it if you want to get stoned on a Friday night and laugh with your buddies. Don't rent it if you are an uptight weenie or want a zombie movie with lots of flesh eating.<br /><br />P.S. Uwe Boil was a nice touch."
     ]
    }
   ],
   "source": [
    "!cat {TRN}1000_0.txt"
   ]
  },
  {
   "cell_type": "code",
   "execution_count": 74,
   "metadata": {},
   "outputs": [
    {
     "name": "stdout",
     "output_type": "stream",
     "text": [
      "17486581\r\n"
     ]
    }
   ],
   "source": [
    "!find {TRN} -name '*.txt' | xargs cat | wc -w"
   ]
  },
  {
   "cell_type": "code",
   "execution_count": 75,
   "metadata": {},
   "outputs": [
    {
     "name": "stdout",
     "output_type": "stream",
     "text": [
      "17486581\r\n"
     ]
    }
   ],
   "source": [
    "!find {TRN} -name '*.txt' | xargs cat | wc -w"
   ]
  },
  {
   "cell_type": "code",
   "execution_count": 7,
   "metadata": {
    "collapsed": true
   },
   "outputs": [],
   "source": [
    "TEXT = data.Field(lower=True, tokenize=spacy_tok)\n",
    "FILES = dict(train=TRN_PATH, validation=VAL_PATH, test=VAL_PATH)\n",
    "md = LanguageModelData(PATH, TEXT, **FILES, bs=bs, bptt=bptt, min_freq=10)"
   ]
  },
  {
   "cell_type": "code",
   "execution_count": 8,
   "metadata": {
    "collapsed": true
   },
   "outputs": [],
   "source": [
    "pad_idx = TEXT.vocab.stoi[TEXT.pad_token]\n",
    "pickle.dump(TEXT, open(f'{PATH}models/TEXT.pkl','wb'))"
   ]
  },
  {
   "cell_type": "code",
   "execution_count": 9,
   "metadata": {},
   "outputs": [
    {
     "data": {
      "text/plain": [
       "(4602, 34945, 1, 20621966, 34945)"
      ]
     },
     "execution_count": 9,
     "metadata": {},
     "output_type": "execute_result"
    }
   ],
   "source": [
    "len(md.trn_dl), md.nt, len(md.trn_ds), len(md.trn_ds[0].text), len(TEXT.vocab)"
   ]
  },
  {
   "cell_type": "code",
   "execution_count": 77,
   "metadata": {
    "scrolled": true
   },
   "outputs": [
    {
     "data": {
      "text/plain": [
       "['<unk>', '<pad>', 'the', ',', '.', 'and', 'a', 'of', 'to', 'is', 'it', 'in']"
      ]
     },
     "execution_count": 77,
     "metadata": {},
     "output_type": "execute_result"
    }
   ],
   "source": [
    "TEXT.vocab.itos[:12]"
   ]
  },
  {
   "cell_type": "code",
   "execution_count": 78,
   "metadata": {
    "collapsed": true
   },
   "outputs": [
    {
     "data": {
      "text/plain": [
       "(['i',\n",
       "  'just',\n",
       "  'do',\n",
       "  \"n't\",\n",
       "  'get',\n",
       "  'some',\n",
       "  'of',\n",
       "  'the',\n",
       "  'big',\n",
       "  'premises',\n",
       "  'of',\n",
       "  'this'],\n",
       " (Variable containing:\n",
       "      12    687     13  ...    1923     19     17\n",
       "      51    615     25  ...      10     63     51\n",
       "      53      3      3  ...      42    428    833\n",
       "          ...            ⋱           ...         \n",
       "      51     64      3  ...     111    544      6\n",
       "       6      2   2075  ...      90     43    552\n",
       "    3343   4351      5  ...      35      2    249\n",
       "  [torch.cuda.LongTensor of size 61x64 (GPU 0)], Variable containing:\n",
       "      51\n",
       "     615\n",
       "      25\n",
       "    ⋮   \n",
       "      93\n",
       "     406\n",
       "      43\n",
       "  [torch.cuda.LongTensor of size 3904 (GPU 0)]))"
      ]
     },
     "execution_count": 78,
     "metadata": {},
     "output_type": "execute_result"
    }
   ],
   "source": [
    "md.trn_ds[0].text[:12], next(iter(md.trn_dl))"
   ]
  },
  {
   "cell_type": "markdown",
   "metadata": {},
   "source": [
    "### Train"
   ]
  },
  {
   "cell_type": "code",
   "execution_count": 7,
   "metadata": {
    "collapsed": true
   },
   "outputs": [],
   "source": [
    "em_sz = 200\n",
    "nh = 500\n",
    "nl = 3\n",
    "clip=0.3\n",
    "opt_fn = partial(optim.Adam, betas=(0.7, 0.99))\n",
    "reg_fn=partial(seq2seq_reg, alpha=2, beta=1)"
   ]
  },
  {
   "cell_type": "code",
   "execution_count": 12,
   "metadata": {
    "collapsed": true
   },
   "outputs": [],
   "source": [
    "# dropout=0.4, dropouth=0.3, dropouti=0.65, dropoute=0.1, wdrop=0.5\n",
    "learner = md.get_model(opt_fn, bs, em_sz, nh, nl, pad_token=pad_idx,\n",
    "                       dropouti=0.1, dropout=0.1, wdrop=0.2, dropoute=0.04, dropouth=0.1)"
   ]
  },
  {
   "cell_type": "code",
   "execution_count": 13,
   "metadata": {
    "scrolled": false
   },
   "outputs": [
    {
     "data": {
      "application/vnd.jupyter.widget-view+json": {
       "model_id": "f12e39167b834553ba8f05c176698b09",
       "version_major": 2,
       "version_minor": 0
      },
      "text/plain": [
       "A Jupyter Widget"
      ]
     },
     "metadata": {},
     "output_type": "display_data"
    },
    {
     "name": "stdout",
     "output_type": "stream",
     "text": [
      "[ 0.      4.9619  4.767 ]                                     \n",
      "\n"
     ]
    }
   ],
   "source": [
    "learner.fit(1e-3, 1, wds=1e-6, reg_fn=reg_fn, clip=clip)"
   ]
  },
  {
   "cell_type": "code",
   "execution_count": 14,
   "metadata": {},
   "outputs": [
    {
     "data": {
      "application/vnd.jupyter.widget-view+json": {
       "model_id": "4a68db8cf67543d3b1c52411209ab669",
       "version_major": 2,
       "version_minor": 0
      },
      "text/plain": [
       "A Jupyter Widget"
      ]
     },
     "metadata": {},
     "output_type": "display_data"
    },
    {
     "name": "stdout",
     "output_type": "stream",
     "text": [
      "[ 0.      4.8114  4.6071]                                     \n",
      "[ 1.      4.6945  4.486 ]                                     \n",
      "[ 2.      4.6423  4.4497]                                     \n",
      "[ 3.      4.7243  4.5014]                                     \n",
      "[ 4.      4.6335  4.4207]                                     \n",
      "[ 5.      4.58    4.3916]                                     \n",
      "[ 6.      4.6804  4.462 ]                                     \n",
      "[ 7.      4.6023  4.3915]                                     \n",
      "[ 8.      4.5517  4.3639]                                     \n",
      "\n"
     ]
    }
   ],
   "source": [
    "learner.fit(3e-3, 3, wds=1e-6, reg_fn=reg_fn, cycle_len=3, clip=clip, cycle_save_name='adam3_5')"
   ]
  },
  {
   "cell_type": "code",
   "execution_count": 43,
   "metadata": {
    "collapsed": true
   },
   "outputs": [],
   "source": [
    "#learner.load_cycle('adam3_5', 0)"
   ]
  },
  {
   "cell_type": "code",
   "execution_count": 15,
   "metadata": {
    "collapsed": true
   },
   "outputs": [],
   "source": [
    "learner.save_encoder('adam3_5_enc')"
   ]
  },
  {
   "cell_type": "code",
   "execution_count": 16,
   "metadata": {},
   "outputs": [
    {
     "data": {
      "application/vnd.jupyter.widget-view+json": {
       "model_id": "96a765235ee54bf6a0a2b28499aa48dd",
       "version_major": 2,
       "version_minor": 0
      },
      "text/plain": [
       "A Jupyter Widget"
      ]
     },
     "metadata": {},
     "output_type": "display_data"
    },
    {
     "name": "stdout",
     "output_type": "stream",
     "text": [
      "[ 0.      4.6732  4.4673]                                     \n",
      "[ 1.      4.661   4.4494]                                     \n",
      "[ 2.      4.6346  4.4297]                                     \n",
      "[ 3.      4.6071  4.4054]                                     \n",
      "[ 4.      4.587   4.3785]                                     \n",
      "[ 5.      4.5641  4.3529]                                     \n",
      "[ 6.      4.5196  4.329 ]                                     \n",
      "[ 7.      4.5075  4.3142]                                     \n",
      "[ 8.      4.4983  4.3066]                                     \n",
      "[ 9.      4.476   4.3053]                                     \n",
      "[ 10.       4.6526   4.4288]                                  \n",
      "[ 11.       4.6265   4.4146]                                  \n",
      "[ 12.       4.6127   4.4013]                                  \n",
      "[ 13.       4.5894   4.3774]                                  \n",
      "[ 14.       4.5545   4.3523]                                  \n",
      "[ 15.       4.5439   4.3298]                                  \n",
      "[ 16.       4.5059   4.3079]                                  \n",
      "[ 17.       4.4774   4.2926]                                  \n",
      "[ 18.       4.4613   4.285 ]                                  \n",
      "[ 19.       4.4717   4.2842]                                  \n",
      "[ 20.       4.6272   4.4099]                                  \n",
      "[ 21.       4.6079   4.3987]                                  \n",
      "[ 22.       4.5997   4.3855]                                  \n",
      "[ 23.       4.573    4.3626]                                  \n",
      "[ 24.       4.5458   4.3422]                                  \n",
      "[ 25.       4.5242   4.3172]                                  \n",
      "[ 26.       4.4977   4.2961]                                  \n",
      "[ 27.       4.4843   4.2817]                                  \n",
      "[ 28.       4.4474   4.2733]                                  \n",
      "[ 29.       4.4569   4.2726]                                  \n",
      "[ 30.       4.6103   4.3986]                                  \n",
      "[ 31.       4.6017   4.3898]                                  \n",
      "[ 32.       4.5886   4.3753]                                  \n",
      "[ 33.       4.5594   4.3535]                                  \n",
      "[ 34.       4.5364   4.332 ]                                  \n",
      "[ 35.       4.5197   4.3089]                                  \n",
      "[ 36.       4.4893   4.2891]                                  \n",
      "[ 37.       4.4741   4.2744]                                  \n",
      "[ 38.       4.4502   4.2666]                                  \n",
      "[ 39.       4.4501   4.2648]                                  \n",
      "\n"
     ]
    }
   ],
   "source": [
    "learner.fit(3e-3, 4, wds=1e-6, reg_fn=reg_fn, cycle_len=10, clip=clip, cycle_save_name='adam3_10')"
   ]
  },
  {
   "cell_type": "code",
   "execution_count": 17,
   "metadata": {
    "collapsed": true
   },
   "outputs": [],
   "source": [
    "learner.save_encoder('adam3_10_enc')"
   ]
  },
  {
   "cell_type": "code",
   "execution_count": 18,
   "metadata": {},
   "outputs": [
    {
     "data": {
      "application/vnd.jupyter.widget-view+json": {
       "model_id": "08f482ca78774d959190429c94a94ba5",
       "version_major": 2,
       "version_minor": 0
      },
      "text/plain": [
       "A Jupyter Widget"
      ]
     },
     "metadata": {},
     "output_type": "display_data"
    },
    {
     "name": "stdout",
     "output_type": "stream",
     "text": [
      "[ 0.      4.5049  4.2964]                                     \n",
      "[ 1.      4.5034  4.2941]                                     \n",
      "[ 2.      4.4958  4.2872]                                     \n",
      "[ 3.      4.4764  4.281 ]                                     \n",
      "[ 4.      4.4659  4.2718]                                     \n",
      "[ 5.      4.4744  4.2662]                                     \n",
      "[ 6.      4.4406  4.2579]                                     \n",
      "[ 7.      4.4416  4.254 ]                                     \n",
      "[ 8.      4.4424  4.2525]                                     \n",
      "[ 9.      4.4321  4.2521]                                     \n",
      "\n"
     ]
    }
   ],
   "source": [
    "learner.fit(1e-3, 1, wds=1e-6, reg_fn=reg_fn, cycle_len=10, clip=clip)"
   ]
  },
  {
   "cell_type": "code",
   "execution_count": 19,
   "metadata": {},
   "outputs": [
    {
     "data": {
      "application/vnd.jupyter.widget-view+json": {
       "model_id": "6c9bb7b6ba3e4a4e8cf3abf0291df71d",
       "version_major": 2,
       "version_minor": 0
      },
      "text/plain": [
       "A Jupyter Widget"
      ]
     },
     "metadata": {},
     "output_type": "display_data"
    },
    {
     "name": "stdout",
     "output_type": "stream",
     "text": [
      "[ 0.      4.4307  4.2544]                                     \n",
      "[ 1.      4.6123  4.3939]                                     \n",
      "[ 2.      4.6016  4.3855]                                     \n",
      "[ 3.      4.5948  4.3822]                                     \n",
      "[ 4.      4.5919  4.3739]                                     \n",
      "[ 5.      4.5717  4.365 ]                                     \n",
      "[ 6.      4.5613  4.3543]                                     \n",
      "[ 7.      4.5619  4.343 ]                                     \n",
      "[ 8.      4.5389  4.3319]                                     \n",
      "[ 9.      4.5297  4.3192]                                     \n",
      "[ 10.       4.5267   4.3073]                                  \n",
      "[ 11.       4.4985   4.2934]                                  \n",
      "[ 12.       4.4856   4.2833]                                  \n",
      "[ 13.       4.475    4.2729]                                  \n",
      "[ 14.       4.4706   4.2643]                                  \n",
      "[ 15.       4.4527   4.2565]                                  \n",
      "[ 16.       4.4415   4.2509]                                  \n",
      "[ 17.       4.4408   4.2476]                                  \n",
      "[ 18.       4.4182   4.2466]                                  \n",
      "[ 19.       4.4211   4.2469]                                  \n",
      "\n"
     ]
    }
   ],
   "source": [
    "learner.fit(3e-3, 1, wds=1e-6, reg_fn=reg_fn, cycle_len=20, clip=clip, cycle_save_name='adam3_20')"
   ]
  },
  {
   "cell_type": "code",
   "execution_count": 26,
   "metadata": {
    "collapsed": true
   },
   "outputs": [],
   "source": [
    "learner.save_encoder('adam3_20_enc')"
   ]
  },
  {
   "cell_type": "code",
   "execution_count": 20,
   "metadata": {},
   "outputs": [
    {
     "data": {
      "text/plain": [
       "70.10541234668786"
      ]
     },
     "execution_count": 20,
     "metadata": {},
     "output_type": "execute_result"
    }
   ],
   "source": [
    "math.exp(4.25)"
   ]
  },
  {
   "cell_type": "markdown",
   "metadata": {
    "heading_collapsed": true
   },
   "source": [
    "### Test"
   ]
  },
  {
   "cell_type": "code",
   "execution_count": 21,
   "metadata": {
    "hidden": true
   },
   "outputs": [
    {
     "data": {
      "text/plain": [
       "\". So , it was n't quite was I was expecting , but I really liked it anyway ! The best\""
      ]
     },
     "execution_count": 21,
     "metadata": {},
     "output_type": "execute_result"
    }
   ],
   "source": [
    "m=learner.model\n",
    "s=\"\"\". So, it wasn't quite was I was expecting, but I really liked it anyway! The best\"\"\"\n",
    "s = [spacy_tok(s)]\n",
    "t=TEXT.numericalize(s)\n",
    "' '.join(s[0])"
   ]
  },
  {
   "cell_type": "code",
   "execution_count": 23,
   "metadata": {
    "collapsed": true,
    "hidden": true
   },
   "outputs": [],
   "source": [
    "m[0].bs=1\n",
    "m.eval()\n",
    "m.reset()\n",
    "res,*_ = m(t)\n",
    "m[0].bs=bs"
   ]
  },
  {
   "cell_type": "code",
   "execution_count": 24,
   "metadata": {
    "hidden": true
   },
   "outputs": [
    {
     "data": {
      "text/plain": [
       "['of',\n",
       " 'movie',\n",
       " 'performance',\n",
       " 'scene',\n",
       " 'film',\n",
       " 'part',\n",
       " 'actor',\n",
       " 'friend',\n",
       " 'thing',\n",
       " '<unk>']"
      ]
     },
     "execution_count": 24,
     "metadata": {},
     "output_type": "execute_result"
    }
   ],
   "source": [
    "nexts = torch.topk(res[-1], 10)[1]\n",
    "[TEXT.vocab.itos[o] for o in to_np(nexts)]"
   ]
  },
  {
   "cell_type": "code",
   "execution_count": 25,
   "metadata": {
    "hidden": true
   },
   "outputs": [
    {
     "name": "stdout",
     "output_type": "stream",
     "text": [
      "of all , i was n't expecting much from this movie , but i was n't expecting much . i "
     ]
    }
   ],
   "source": [
    "for i in range(20):\n",
    "    n=res[-1].topk(2)[1]\n",
    "    n = n[1] if n.data[0]==0 else n[0]\n",
    "    print(TEXT.vocab.itos[n.data[0]], end=' ')\n",
    "    res,*_ = m(n[0].unsqueeze(0))"
   ]
  },
  {
   "cell_type": "markdown",
   "metadata": {},
   "source": [
    "### Sentiment"
   ]
  },
  {
   "cell_type": "code",
   "execution_count": 14,
   "metadata": {
    "collapsed": true
   },
   "outputs": [],
   "source": [
    "topm = learner.model[0]"
   ]
  },
  {
   "cell_type": "code",
   "execution_count": 27,
   "metadata": {
    "collapsed": true
   },
   "outputs": [],
   "source": [
    "TEXT = pickle.load(open(f'{PATH}models/TEXT.pkl','rb'))\n",
    "IMDB_TEXT = data.Field(lower=True, tokenize=spacy_tok)#, fix_length=sl)#, batch_first=True)\n",
    "IMDB_TEXT.vocab = TEXT.vocab\n",
    "pickle.dump(IMDB_TEXT, open(f'{PATH}models/IMDB_TEXT.pkl','wb'))"
   ]
  },
  {
   "cell_type": "code",
   "execution_count": 8,
   "metadata": {
    "collapsed": true
   },
   "outputs": [],
   "source": [
    "IMDB_TEXT = pickle.load(open(f'{PATH}models/IMDB_TEXT.pkl','rb'))"
   ]
  },
  {
   "cell_type": "code",
   "execution_count": 9,
   "metadata": {
    "collapsed": true
   },
   "outputs": [],
   "source": [
    "def postproc(arr,vocab,train): return [1 if o==1 else 0 for o in arr]\n",
    "\n",
    "pad_idx = IMDB_TEXT.vocab.stoi[IMDB_TEXT.pad_token]\n",
    "IMDB_LABEL = data.Field(sequential=False, postprocessing=postproc)\n",
    "IMDB_PATH='data/'\n",
    "splits = torchtext.datasets.IMDB.splits(IMDB_TEXT, IMDB_LABEL, IMDB_PATH)\n",
    "md2 = TextData.from_splits(PATH, splits, bs)"
   ]
  },
  {
   "cell_type": "code",
   "execution_count": 23,
   "metadata": {
    "collapsed": true
   },
   "outputs": [],
   "source": [
    "# dropout=0.4, dropouth=0.3, dropouti=0.65, dropoute=0.1, wdrop=0.5\n",
    "m3 = md2.get_model(opt_fn, 1500, bptt, bs, emb_sz=em_sz, n_hid=nh, n_layers=nl, \n",
    "           pad_token=pad_idx, dropout=0.3, dropouti=0.4, wdrop=0.3, dropoute=0.05, dropouth=0.2)\n",
    "m3.model[0].trainable=False\n",
    "m3.load_encoder(f'adam3_20_enc')"
   ]
  },
  {
   "cell_type": "code",
   "execution_count": 24,
   "metadata": {
    "scrolled": false
   },
   "outputs": [
    {
     "data": {
      "application/vnd.jupyter.widget-view+json": {
       "model_id": "8c9c7c13ee4745a99f352b4c5e4d3f7d",
       "version_major": 2,
       "version_minor": 0
      },
      "text/plain": [
       "A Jupyter Widget"
      ]
     },
     "metadata": {},
     "output_type": "display_data"
    },
    {
     "name": "stdout",
     "output_type": "stream",
     "text": [
      "[ 0.      0.2375  0.2052  0.9182]                            \n",
      "\n"
     ]
    }
   ],
   "source": [
    "m3.fit(1e-3, 1, metrics=[accuracy])"
   ]
  },
  {
   "cell_type": "code",
   "execution_count": 25,
   "metadata": {
    "collapsed": true
   },
   "outputs": [],
   "source": [
    "m3[0].trainable=True\n",
    "m3[0].encoder.trainable=False"
   ]
  },
  {
   "cell_type": "code",
   "execution_count": 26,
   "metadata": {
    "scrolled": true
   },
   "outputs": [
    {
     "data": {
      "application/vnd.jupyter.widget-view+json": {
       "model_id": "48830bf0492d405395161b7cee56d813",
       "version_major": 2,
       "version_minor": 0
      },
      "text/plain": [
       "A Jupyter Widget"
      ]
     },
     "metadata": {},
     "output_type": "display_data"
    },
    {
     "name": "stdout",
     "output_type": "stream",
     "text": [
      "[ 0.      0.1894  0.1775  0.9328]                            \n",
      "[ 1.      0.1831  0.1737  0.9338]                            \n",
      "\n"
     ]
    }
   ],
   "source": [
    "m3.fit(2e-4, 2, metrics=[accuracy], reg_fn=reg_fn, cycle_len=1)"
   ]
  },
  {
   "cell_type": "markdown",
   "metadata": {},
   "source": [
    "### End"
   ]
  },
  {
   "cell_type": "code",
   "execution_count": null,
   "metadata": {
    "collapsed": true
   },
   "outputs": [],
   "source": []
  }
 ],
 "metadata": {
  "kernelspec": {
   "display_name": "Python 3",
   "language": "python",
   "name": "python3"
  },
  "language_info": {
   "codemirror_mode": {
    "name": "ipython",
    "version": 3
   },
   "file_extension": ".py",
   "mimetype": "text/x-python",
   "name": "python",
   "nbconvert_exporter": "python",
   "pygments_lexer": "ipython3",
   "version": "3.6.2"
  }
 },
 "nbformat": 4,
 "nbformat_minor": 2
}
