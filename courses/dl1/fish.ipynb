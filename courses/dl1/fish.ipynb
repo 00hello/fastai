{
 "cells": [
  {
   "cell_type": "markdown",
   "metadata": {},
   "source": [
    "# Fisheries competition"
   ]
  },
  {
   "cell_type": "markdown",
   "metadata": {},
   "source": [
    "In this notebook we're going to investigate a range of different techniques for the [Kaggle fisheries competition](https://www.kaggle.com/c/the-nature-conservancy-fisheries-monitoring). In this competition, The Nature Conservancy asks you to help them detect which species of fish appears on a fishing boat, based on images captured from boat cameras of various angles. Your goal is to predict the likelihood of fish species in each picture. Eight target categories are available in this dataset: Albacore tuna, Bigeye tuna, Yellowfin tuna, Mahi Mahi, Opah, Sharks, Other \n",
    "\n",
    "You can use [this](https://github.com/floydwch/kaggle-cli) api to download the data from Kaggle."
   ]
  },
  {
   "cell_type": "code",
   "execution_count": 25,
   "metadata": {
    "collapsed": true
   },
   "outputs": [],
   "source": [
    "# Put these at the top of every notebook, to get automatic reloading and inline plotting\n",
    "%reload_ext autoreload\n",
    "%autoreload 2\n",
    "%matplotlib inline\n",
    "\n",
    "# This file contains all the main external libs we'll use\n",
    "from fastai.imports import *\n",
    "from fastai.plots import *\n",
    "from fastai.io import get_data\n",
    "\n",
    "PATH = \"data/fish/\""
   ]
  },
  {
   "cell_type": "markdown",
   "metadata": {
    "heading_collapsed": true
   },
   "source": [
    "## First look at fish pictures"
   ]
  },
  {
   "cell_type": "code",
   "execution_count": null,
   "metadata": {
    "collapsed": true,
    "hidden": true
   },
   "outputs": [],
   "source": [
    "!ls {PATH}"
   ]
  },
  {
   "cell_type": "code",
   "execution_count": null,
   "metadata": {
    "collapsed": true,
    "hidden": true
   },
   "outputs": [],
   "source": [
    "!ls {PATH}train"
   ]
  },
  {
   "cell_type": "code",
   "execution_count": null,
   "metadata": {
    "collapsed": true,
    "hidden": true
   },
   "outputs": [],
   "source": [
    "files = !ls {PATH}train/ALB | head\n",
    "files"
   ]
  },
  {
   "cell_type": "code",
   "execution_count": null,
   "metadata": {
    "collapsed": true,
    "hidden": true
   },
   "outputs": [],
   "source": [
    "img = plt.imread(f'{PATH}train/ALB/{files[0]}')\n",
    "plt.imshow(img);"
   ]
  },
  {
   "cell_type": "markdown",
   "metadata": {
    "heading_collapsed": true
   },
   "source": [
    "## Data pre-processing"
   ]
  },
  {
   "cell_type": "markdown",
   "metadata": {
    "hidden": true
   },
   "source": [
    "Here we are changing the structure of the training data to make it more convinient. We will have all images in a common directory `images` and will have a file `train.csv` with all labels. "
   ]
  },
  {
   "cell_type": "code",
   "execution_count": null,
   "metadata": {
    "collapsed": true,
    "hidden": true
   },
   "outputs": [],
   "source": [
    "from os import listdir\n",
    "from os.path import join\n",
    "train_path = f'{PATH}/train'"
   ]
  },
  {
   "cell_type": "code",
   "execution_count": null,
   "metadata": {
    "collapsed": true,
    "hidden": true
   },
   "outputs": [],
   "source": [
    "dirs = [d for d in listdir(train_path) if os.path.isdir(join(train_path,d))]\n",
    "print(dirs)"
   ]
  },
  {
   "cell_type": "code",
   "execution_count": null,
   "metadata": {
    "collapsed": true,
    "hidden": true
   },
   "outputs": [],
   "source": [
    "train_dict = {d: listdir(join(train_path, d)) for d in dirs}"
   ]
  },
  {
   "cell_type": "code",
   "execution_count": null,
   "metadata": {
    "collapsed": true,
    "hidden": true
   },
   "outputs": [],
   "source": [
    "train_dict[\"LAG\"][:10]"
   ]
  },
  {
   "cell_type": "code",
   "execution_count": null,
   "metadata": {
    "collapsed": true,
    "hidden": true
   },
   "outputs": [],
   "source": [
    "sum(len(v) for v in train_dict.values())"
   ]
  },
  {
   "cell_type": "code",
   "execution_count": null,
   "metadata": {
    "collapsed": true,
    "hidden": true
   },
   "outputs": [],
   "source": [
    "with open(f\"{PATH}train.csv\", \"w\") as csv:\n",
    "    csv.write(\"img,label\\n\")\n",
    "    for d in dirs:\n",
    "        for f in train_dict[d]: csv.write(f'{f},{d}\\n')"
   ]
  },
  {
   "cell_type": "code",
   "execution_count": null,
   "metadata": {
    "collapsed": true,
    "hidden": true
   },
   "outputs": [],
   "source": [
    "img_path = f'{PATH}images'\n",
    "os.makedirs(img_path, exist_ok=True)"
   ]
  },
  {
   "cell_type": "code",
   "execution_count": null,
   "metadata": {
    "collapsed": true,
    "hidden": true
   },
   "outputs": [],
   "source": [
    "!cp {PATH}train/*/*.jpg {PATH}images/"
   ]
  },
  {
   "cell_type": "markdown",
   "metadata": {},
   "source": [
    "## Our first model with Center  Cropping"
   ]
  },
  {
   "cell_type": "markdown",
   "metadata": {},
   "source": [
    "Here we import the libraries we need. We'll learn about what each does during the course."
   ]
  },
  {
   "cell_type": "code",
   "execution_count": 49,
   "metadata": {
    "collapsed": true
   },
   "outputs": [],
   "source": [
    "from fastai.transforms import *\n",
    "from fastai.conv_learner import *\n",
    "from fastai.model import *\n",
    "from fastai.dataset import *\n",
    "from fastai.sgdr import *"
   ]
  },
  {
   "cell_type": "code",
   "execution_count": 50,
   "metadata": {
    "collapsed": true
   },
   "outputs": [],
   "source": [
    "sz=350\n",
    "bs=64\n",
    "csv_fname = os.path.join(PATH, \"train.csv\")\n",
    "train_labels = list(open(csv_fname))\n",
    "n = len(list(open(csv_fname)))-1\n",
    "val_idxs = get_cv_idxs(n)"
   ]
  },
  {
   "cell_type": "code",
   "execution_count": 52,
   "metadata": {
    "collapsed": true
   },
   "outputs": [],
   "source": [
    "tfms = tfms_from_model(resnet34, sz)\n",
    "data = ImageClassifierData.from_csv(PATH, \"images\", csv_fname, bs, tfms, val_idxs)"
   ]
  },
  {
   "cell_type": "code",
   "execution_count": 53,
   "metadata": {},
   "outputs": [
    {
     "name": "stdout",
     "output_type": "stream",
     "text": [
      "100%|██████████| 48/48 [00:25<00:00,  1.89it/s]\n",
      "100%|██████████| 12/12 [00:07<00:00,  2.44it/s]\n"
     ]
    }
   ],
   "source": [
    "learn = ConvLearner.pretrained(resnet34, data, precompute=True, opt_fn=optim.Adam, ps=0.5)"
   ]
  },
  {
   "cell_type": "code",
   "execution_count": 54,
   "metadata": {},
   "outputs": [
    {
     "data": {
      "application/vnd.jupyter.widget-view+json": {
       "model_id": "954316d6b47b434eb4789e2a521bdd01"
      }
     },
     "metadata": {},
     "output_type": "display_data"
    },
    {
     "name": "stdout",
     "output_type": "stream",
     "text": [
      " 52%|█████▏    | 25/48 [00:00<00:03,  6.97it/s, loss=2.38]\n",
      "                                                          \r"
     ]
    },
    {
     "data": {
      "image/png": "[encoded data removed]",
      "text/plain": [
       "<matplotlib.figure.Figure at 0x7fa8439e39b0>"
      ]
     },
     "metadata": {},
     "output_type": "display_data"
    }
   ],
   "source": [
    "lrf=learn.lr_find()\n",
    "learn.sched.plot()"
   ]
  },
  {
   "cell_type": "code",
   "execution_count": 55,
   "metadata": {},
   "outputs": [
    {
     "data": {
      "application/vnd.jupyter.widget-view+json": {
       "model_id": "4bb840535d6a4b1e95ce2edd4ffb75f8"
      }
     },
     "metadata": {},
     "output_type": "display_data"
    },
    {
     "name": "stdout",
     "output_type": "stream",
     "text": [
      "[ 0.      0.793   0.7643  0.7323]                         \n",
      "[ 1.      0.8338  0.581   0.79  ]                         \n",
      "[ 2.      0.7047  0.5114  0.8215]                          \n",
      "[ 3.      0.6761  0.5195  0.8274]                         \n",
      "[ 4.      0.5863  0.4266  0.8489]                          \n",
      "[ 5.      0.5159  0.3833  0.8658]                          \n",
      "[ 6.      0.4365  0.3695  0.8769]                          \n",
      "[ 7.      0.4547  0.4124  0.8411]                          \n",
      "[ 8.      0.4788  0.3967  0.8544]                          \n",
      "[ 9.      0.4471  0.3343  0.8903]                          \n",
      "[ 10.       0.4136   0.3255   0.888 ]                      \n",
      "[ 11.       0.3475   0.3106   0.8958]                      \n",
      "[ 12.       0.2836   0.3051   0.8968]                      \n",
      "[ 13.       0.2591   0.3067   0.9049]                     \n",
      "[ 14.       0.2466   0.2862   0.9088]                      \n",
      "[ 15.       0.2978   0.3873   0.8746]                      \n",
      "[ 16.       0.373    0.3744   0.8899]                      \n",
      "[ 17.       0.3748   0.372    0.889 ]                      \n",
      "[ 18.       0.3717   0.2823   0.9059]                      \n",
      "[ 19.       0.3641   0.324    0.8925]                      \n",
      "[ 20.       0.3473   0.3066   0.9036]                      \n",
      "[ 21.       0.3483   0.3378   0.8997]                      \n",
      "[ 22.       0.3005   0.2786   0.9196]                      \n",
      "[ 23.       0.2678   0.2635   0.9212]                      \n",
      "[ 24.       0.2291   0.2669   0.9147]                      \n",
      "[ 25.       0.2173   0.262    0.9153]                     \n",
      "[ 26.       0.2165   0.2547   0.9153]                      \n",
      "[ 27.       0.18     0.2668   0.9179]                      \n",
      "[ 28.       0.1726   0.2484   0.9251]                      \n",
      "[ 29.       0.1645   0.2494   0.9192]                      \n",
      "[ 30.       0.1579   0.2482   0.9251]                      \n",
      "\n"
     ]
    }
   ],
   "source": [
    "learn.fit(0.01, 5, cycle_len=1, cycle_mult=2)"
   ]
  },
  {
   "cell_type": "code",
   "execution_count": 56,
   "metadata": {},
   "outputs": [
    {
     "data": {
      "application/vnd.jupyter.widget-view+json": {
       "model_id": "9cff28e68e8a43a5ab1691d3849ebf86"
      }
     },
     "metadata": {},
     "output_type": "display_data"
    },
    {
     "name": "stdout",
     "output_type": "stream",
     "text": [
      " 81%|████████▏ | 39/48 [00:25<00:04,  1.92it/s, loss=2.37] "
     ]
    },
    {
     "data": {
      "image/png": "[encoded data removed]",
      "text/plain": [
       "<matplotlib.figure.Figure at 0x7fa8424b9898>"
      ]
     },
     "metadata": {},
     "output_type": "display_data"
    }
   ],
   "source": [
    "lrs=np.array([1e-4,1e-3,1e-2])\n",
    "learn.precompute=False\n",
    "\n",
    "learn.freeze_to(6)\n",
    "lrf=learn.lr_find(lrs/1e3)\n",
    "learn.sched.plot()"
   ]
  },
  {
   "cell_type": "markdown",
   "metadata": {},
   "source": [
    "## Same model with No cropping "
   ]
  },
  {
   "cell_type": "markdown",
   "metadata": {},
   "source": [
    "NOTE: Before running this remove the temp file under data/fish."
   ]
  },
  {
   "cell_type": "code",
   "execution_count": 43,
   "metadata": {
    "collapsed": true
   },
   "outputs": [],
   "source": [
    "sz = 350\n",
    "tfms = tfms_from_model(resnet34, sz, crop_type=CropType.NO)\n",
    "data = ImageClassifierData.from_csv(PATH, \"images\", csv_fname, bs, tfms, val_idxs)"
   ]
  },
  {
   "cell_type": "code",
   "execution_count": 44,
   "metadata": {},
   "outputs": [],
   "source": [
    "learn = ConvLearner.pretrained(resnet34, data, precompute=True, opt_fn=optim.Adam, ps=0.5)"
   ]
  },
  {
   "cell_type": "code",
   "execution_count": 39,
   "metadata": {},
   "outputs": [
    {
     "data": {
      "application/vnd.jupyter.widget-view+json": {
       "model_id": "8141babc8f9f4d45b4feb40505be08be"
      }
     },
     "metadata": {},
     "output_type": "display_data"
    },
    {
     "name": "stdout",
     "output_type": "stream",
     "text": [
      " 67%|██████▋   | 32/48 [00:00<00:01, 11.93it/s, loss=2.03]\n",
      "                                                          \r"
     ]
    },
    {
     "data": {
      "image/png": "[encoded data removed]",
      "text/plain": [
       "<matplotlib.figure.Figure at 0x7fa845097f28>"
      ]
     },
     "metadata": {},
     "output_type": "display_data"
    }
   ],
   "source": [
    "lrf=learn.lr_find()\n",
    "learn.sched.plot()"
   ]
  },
  {
   "cell_type": "code",
   "execution_count": 45,
   "metadata": {},
   "outputs": [
    {
     "data": {
      "application/vnd.jupyter.widget-view+json": {
       "model_id": "372790b024b14931a20dbff5a74fbca5"
      }
     },
     "metadata": {},
     "output_type": "display_data"
    },
    {
     "name": "stdout",
     "output_type": "stream",
     "text": [
      "[ 0.      0.6663  0.5819  0.8056]                         \n",
      "[ 1.      0.6626  0.3502  0.8864]                          \n",
      "[ 2.      0.5046  0.2885  0.9117]                          \n",
      "[ 3.      0.4857  0.2994  0.8938]                          \n",
      "[ 4.      0.4287  0.2397  0.9271]                          \n",
      "[ 5.      0.343   0.2077  0.9371]                          \n",
      "[ 6.      0.2728  0.1936  0.9401]                          \n",
      "[ 7.      0.2912  0.221   0.9254]                          \n",
      "[ 8.      0.3421  0.1981  0.9492]                          \n",
      "[ 9.      0.3304  0.1769  0.9534]                          \n",
      "[ 10.       0.2726   0.181    0.9473]                      \n",
      "[ 11.       0.2466   0.1599   0.9551]                     \n",
      "[ 12.       0.2126   0.1531   0.9593]                      \n",
      "[ 13.       0.1847   0.1398   0.9577]                      \n",
      "[ 14.       0.1508   0.1452   0.959 ]                      \n",
      "[ 15.       0.1977   0.1606   0.9547]                      \n",
      "[ 16.       0.2236   0.1619   0.9505]                      \n",
      "[ 17.       0.254    0.1915   0.9495]                      \n",
      "[ 18.       0.2382   0.1762   0.946 ]                      \n",
      "[ 19.       0.224    0.1763   0.9508]                      \n",
      "[ 20.       0.2182   0.1556   0.959 ]                      \n",
      "[ 21.       0.2093   0.1495   0.9603]                      \n",
      "[ 22.       0.1884   0.1467   0.9616]                      \n",
      "[ 23.       0.152    0.1382   0.9619]                      \n",
      "[ 24.       0.1588   0.1453   0.9586]                      \n",
      "[ 25.       0.134    0.1244   0.9642]                      \n",
      "[ 26.       0.1216   0.1282   0.9645]                      \n",
      "[ 27.       0.123    0.1239   0.9642]                      \n",
      "[ 28.       0.1115   0.1272   0.9632]                      \n",
      "[ 29.       0.0968   0.1268   0.9629]                       \n",
      "[ 30.       0.0982   0.1263   0.9642]                       \n",
      "\n"
     ]
    }
   ],
   "source": [
    "learn.fit(0.01, 5, cycle_len=1, cycle_mult=2)"
   ]
  },
  {
   "cell_type": "code",
   "execution_count": 47,
   "metadata": {},
   "outputs": [
    {
     "data": {
      "application/vnd.jupyter.widget-view+json": {
       "model_id": "2c90d6c584004049a370b9a0589442df"
      }
     },
     "metadata": {},
     "output_type": "display_data"
    },
    {
     "name": "stdout",
     "output_type": "stream",
     "text": [
      "                                                          \n",
      "                                                          \n",
      "                                                          \n",
      "  0%|          | 0/48 [00:00<?, ?it/s]\n",
      "                                                          \n",
      "                                                          \n",
      "                                                          \n",
      "\n",
      "                                                          \n",
      "                                                          \n",
      " 79%|███████▉  | 38/48 [00:36<00:07,  1.25it/s, loss=1.69] "
     ]
    },
    {
     "data": {
      "image/png": "[encoded data removed]",
      "text/plain": [
       "<matplotlib.figure.Figure at 0x7fa84527d710>"
      ]
     },
     "metadata": {},
     "output_type": "display_data"
    }
   ],
   "source": [
    "lrs=np.array([1e-4,1e-3,1e-2])\n",
    "learn.precompute=False\n",
    "\n",
    "learn.unfreeze()\n",
    "lrf=learn.lr_find(lrs/1e3)\n",
    "learn.sched.plot()"
   ]
  },
  {
   "cell_type": "code",
   "execution_count": 48,
   "metadata": {},
   "outputs": [
    {
     "data": {
      "application/vnd.jupyter.widget-view+json": {
       "model_id": "28fa887d90dc4beaaa5f77df8dbe9c04"
      }
     },
     "metadata": {},
     "output_type": "display_data"
    },
    {
     "name": "stdout",
     "output_type": "stream",
     "text": [
      "                                                          \n",
      "                                                          \n",
      "  0%|          | 0/48 [00:00<?, ?it/s]\n",
      "                                                          \n",
      "\n",
      "\n",
      "                                                          \n",
      "                                                          \n",
      "                                                          \n",
      "\n",
      "[ 0.      0.261   0.1718  0.9489]                          \n",
      "[ 1.      0.2181  0.127   0.9612]                          \n",
      "[ 2.      0.1383  0.1121  0.9694]                          \n",
      "[ 3.      0.1084  0.105   0.9668]                          \n",
      "[ 4.      0.0942  0.1224  0.9668]                           \n",
      "[ 5.      0.0606  0.111   0.9668]                           \n",
      "[ 6.      0.0411  0.1168  0.9668]                           \n",
      "[ 7.      0.0318  0.1313  0.9746]                           \n",
      "[ 8.      0.0328  0.1006  0.9691]                           \n",
      "[ 9.      0.0249  0.0898  0.9733]                           \n",
      "[ 10.       0.0202   0.1076   0.9694]                       \n",
      "[ 11.       0.0138   0.1003   0.972 ]                       \n",
      "[ 12.       0.0152   0.0966   0.9746]                       \n",
      "[  1.3000e+01   8.4560e-03   9.7207e-02   9.7590e-01]        \n",
      "[  1.4000e+01   9.3360e-03   9.7934e-02   9.7330e-01]        \n",
      "[ 15.       0.0282   0.1331   0.9638]                       \n",
      "[ 16.       0.1706   0.1896   0.957 ]                       \n",
      "[ 17.       0.1631   0.1148   0.9691]                      \n",
      "[ 18.       0.1012   0.0987   0.9785]                       \n",
      "[ 19.       0.0599   0.0989   0.9775]                       \n",
      "[ 20.       0.0395   0.1047   0.9788]                       \n",
      "[ 21.       0.0251   0.1035   0.9788]                       \n",
      "[  2.2000e+01   1.6594e-02   1.0751e-01   9.8014e-01]       \n",
      "[  2.3000e+01   1.0473e-02   1.1024e-01   9.8274e-01]       \n",
      "[  2.4000e+01   1.1876e-02   1.1188e-01   9.8014e-01]        \n",
      "[ 25.       0.0272   0.1139   0.9759]                       \n",
      "[  2.6000e+01   1.8235e-02   1.1160e-01   9.7720e-01]       \n",
      "[  2.7000e+01   1.3155e-02   1.1622e-01   9.7590e-01]       \n",
      "[  2.8000e+01   9.5520e-03   1.1498e-01   9.7720e-01]        \n",
      "[  2.9000e+01   1.0773e-02   1.1218e-01   9.7850e-01]        \n",
      "[  3.0000e+01   1.0661e-02   1.1928e-01   9.7590e-01]        \n",
      "\n"
     ]
    }
   ],
   "source": [
    "lrs=np.array([1e-5,1e-4,1e-3])\n",
    "learn.fit(lrs, 5, cycle_len=1, cycle_mult=2)"
   ]
  },
  {
   "cell_type": "markdown",
   "metadata": {},
   "source": [
    "## Predicting bounding boxes"
   ]
  },
  {
   "cell_type": "markdown",
   "metadata": {
    "heading_collapsed": true
   },
   "source": [
    "### Getting bounding boxes data"
   ]
  },
  {
   "cell_type": "markdown",
   "metadata": {
    "hidden": true
   },
   "source": [
    "This part needs to run just the first time to get the file `trn_bb_labels`"
   ]
  },
  {
   "cell_type": "code",
   "execution_count": null,
   "metadata": {
    "collapsed": true,
    "hidden": true
   },
   "outputs": [],
   "source": [
    "import json\n",
    "anno_classes = ['alb', 'bet', 'dol', 'lag', 'other', 'shark', 'yft']"
   ]
  },
  {
   "cell_type": "code",
   "execution_count": null,
   "metadata": {
    "collapsed": true,
    "hidden": true
   },
   "outputs": [],
   "source": [
    "def get_annotations():\n",
    "    annot_urls = [\n",
    "        '5458/bet_labels.json', '5459/shark_labels.json', '5460/dol_labels.json',\n",
    "        '5461/yft_labels.json', '5462/alb_labels.json', '5463/lag_labels.json'\n",
    "    ]\n",
    "    cache_subdir = os.path.abspath(os.path.join(PATH, 'annos'))\n",
    "    url_prefix = 'https://kaggle2.blob.core.windows.net/forum-message-attachments/147157/'\n",
    "    os.makedirs(cache_subdir, exist_ok=True)\n",
    "    \n",
    "    for url_suffix in annot_urls:\n",
    "        fname = url_suffix.rsplit('/', 1)[-1]\n",
    "        get_data(url_prefix + url_suffix, f'{cache_subdir}/{fname}')"
   ]
  },
  {
   "cell_type": "code",
   "execution_count": null,
   "metadata": {
    "collapsed": true,
    "hidden": true
   },
   "outputs": [],
   "source": [
    "# run this code to get annotation files\n",
    "get_annotations()"
   ]
  },
  {
   "cell_type": "code",
   "execution_count": null,
   "metadata": {
    "collapsed": true,
    "hidden": true
   },
   "outputs": [],
   "source": [
    "# creates a dictionary of all annotations per file\n",
    "bb_json = {}\n",
    "for c in anno_classes:\n",
    "    if c == 'other': continue # no annotation file for \"other\" class\n",
    "    j = json.load(open(f'{PATH}annos/{c}_labels.json', 'r'))\n",
    "    for l in j:\n",
    "        if 'annotations' in l.keys() and len(l['annotations'])>0:\n",
    "            bb_json[l['filename'].split('/')[-1]] = sorted(\n",
    "                l['annotations'], key=lambda x: x['height']*x['width'])[-1]\n",
    "bb_json['img_04908.jpg']"
   ]
  },
  {
   "cell_type": "code",
   "execution_count": null,
   "metadata": {
    "collapsed": true,
    "hidden": true
   },
   "outputs": [],
   "source": [
    "raw_filenames = pd.read_csv(csv_fname)[\"img\"].values"
   ]
  },
  {
   "cell_type": "code",
   "execution_count": null,
   "metadata": {
    "collapsed": true,
    "hidden": true
   },
   "outputs": [],
   "source": [
    "file2idx = {o:i for i,o in enumerate(raw_filenames)}\n",
    "\n",
    "empty_bbox = {'height': 0., 'width': 0., 'x': 0., 'y': 0.}\n",
    "for f in raw_filenames:\n",
    "    if not f in bb_json.keys(): bb_json[f] = empty_bbox\n",
    "\n",
    "bb_params = ['height', 'width', 'x', 'y']\n",
    "def convert_bb(bb):\n",
    "    bb = [bb[p] for p in bb_params]\n",
    "    bb[2] = max(bb[2], 0)\n",
    "    bb[3] = max(bb[3], 0)\n",
    "    return bb"
   ]
  },
  {
   "cell_type": "code",
   "execution_count": null,
   "metadata": {
    "collapsed": true,
    "hidden": true
   },
   "outputs": [],
   "source": [
    "trn_bbox = np.stack([convert_bb(bb_json[f]) for f in raw_filenames]).astype(np.float32)\n",
    "trn_bb_labels = [f + ',' + ' '.join(map(str,o))+'\\n' for f,o in zip(raw_filenames,trn_bbox)]"
   ]
  },
  {
   "cell_type": "code",
   "execution_count": null,
   "metadata": {
    "collapsed": true,
    "hidden": true
   },
   "outputs": [],
   "source": [
    "open(f'{PATH}trn_bb_labels', 'w').writelines(trn_bb_labels)"
   ]
  },
  {
   "cell_type": "code",
   "execution_count": null,
   "metadata": {
    "collapsed": true,
    "hidden": true
   },
   "outputs": [],
   "source": [
    "fnames,csv_labels,_,_ = parse_csv_labels(f'{PATH}trn_bb_labels', skip_header=False)"
   ]
  },
  {
   "cell_type": "code",
   "execution_count": null,
   "metadata": {
    "collapsed": true,
    "hidden": true
   },
   "outputs": [],
   "source": [
    "def bb_corners(bb):\n",
    "    bb = np.array(bb, dtype=np.float32)\n",
    "    row1 = bb[3]\n",
    "    col1 = bb[2]\n",
    "    row2 = row1 + bb[0]\n",
    "    col2 = col1 + bb[1]\n",
    "    return [row1, col1, row2, col2]"
   ]
  },
  {
   "cell_type": "code",
   "execution_count": null,
   "metadata": {
    "collapsed": true,
    "hidden": true
   },
   "outputs": [],
   "source": [
    "f = 'img_02642.jpg'\n",
    "bb = csv_labels[f]\n",
    "print(bb)\n",
    "bb_corners(bb)"
   ]
  },
  {
   "cell_type": "code",
   "execution_count": null,
   "metadata": {
    "collapsed": true,
    "hidden": true
   },
   "outputs": [],
   "source": [
    "new_labels = [f + \",\" + \" \".join(map(str, bb_corners(csv_labels[f]))) + \"\\n\" for f in raw_filenames]"
   ]
  },
  {
   "cell_type": "code",
   "execution_count": null,
   "metadata": {
    "collapsed": true,
    "hidden": true
   },
   "outputs": [],
   "source": [
    "open(f'{PATH}trn_bb_corners_labels', 'w').writelines(new_labels)"
   ]
  },
  {
   "cell_type": "markdown",
   "metadata": {
    "heading_collapsed": true
   },
   "source": [
    "### Looking at bounding boxes"
   ]
  },
  {
   "cell_type": "code",
   "execution_count": null,
   "metadata": {
    "collapsed": true,
    "hidden": true
   },
   "outputs": [],
   "source": [
    "# reading bb file\n",
    "bbox = {}\n",
    "bb_data = pd.read_csv(f'{PATH}trn_bb_labels', header=None)"
   ]
  },
  {
   "cell_type": "code",
   "execution_count": null,
   "metadata": {
    "collapsed": true,
    "hidden": true
   },
   "outputs": [],
   "source": [
    "fnames,csv_labels,_,_ = parse_csv_labels(f'{PATH}trn_bb_labels', skip_header=False)\n",
    "fnames,corner_labels,_,_ = parse_csv_labels(f'{PATH}trn_bb_corners_labels', skip_header=False)"
   ]
  },
  {
   "cell_type": "code",
   "execution_count": null,
   "metadata": {
    "collapsed": true,
    "hidden": true
   },
   "outputs": [],
   "source": [
    "corner_labels[\"img_06297.jpg\"]"
   ]
  },
  {
   "cell_type": "code",
   "execution_count": null,
   "metadata": {
    "collapsed": true,
    "hidden": true
   },
   "outputs": [],
   "source": [
    "csv_labels[\"img_06297.jpg\"]"
   ]
  },
  {
   "cell_type": "code",
   "execution_count": null,
   "metadata": {
    "collapsed": true,
    "hidden": true
   },
   "outputs": [],
   "source": [
    "def create_rect(bb, color='red'):\n",
    "    return plt.Rectangle((bb[2], bb[3]), bb[1], bb[0], color=color, fill=False, lw=3)\n",
    "\n",
    "def show_bb(path, f='img_04908.jpg'):\n",
    "    file_path = f'{path}images/{f}'\n",
    "    bb = csv_labels[f]\n",
    "    plots_from_files([file_path])\n",
    "    plt.gca().add_patch(create_rect(bb))"
   ]
  },
  {
   "cell_type": "code",
   "execution_count": null,
   "metadata": {
    "collapsed": true,
    "hidden": true
   },
   "outputs": [],
   "source": [
    "def create_corner_rect(bb, color='red'):\n",
    "    bb = np.array(bb, dtype=np.float32)\n",
    "    return plt.Rectangle((bb[1], bb[0]), bb[3]-bb[1], bb[2]-bb[0], color=color, fill=False, lw=3)\n",
    "\n",
    "def show_corner_bb(path, f='img_04908.jpg'):\n",
    "    file_path = f'{path}images/{f}'\n",
    "    bb = corner_labels[f]\n",
    "    plots_from_files([file_path])\n",
    "    plt.gca().add_patch(create_corner_rect(bb))"
   ]
  },
  {
   "cell_type": "code",
   "execution_count": null,
   "metadata": {
    "collapsed": true,
    "hidden": true
   },
   "outputs": [],
   "source": [
    "show_corner_bb(PATH, f = 'img_02642.jpg')"
   ]
  },
  {
   "cell_type": "markdown",
   "metadata": {},
   "source": [
    "### Model predicting bounding boxes"
   ]
  },
  {
   "cell_type": "code",
   "execution_count": 57,
   "metadata": {
    "collapsed": true
   },
   "outputs": [],
   "source": [
    "sz=299\n",
    "bs=64\n",
    "\n",
    "label_csv=f'{PATH}trn_bb_corners_labels'\n",
    "n = len(list(open(label_csv)))-1\n",
    "val_idxs = get_cv_idxs(n)"
   ]
  },
  {
   "cell_type": "code",
   "execution_count": 58,
   "metadata": {},
   "outputs": [
    {
     "name": "stdout",
     "output_type": "stream",
     "text": [
      "\n",
      "                                                          \n",
      "                                                          \n",
      "                                                          \n",
      "                                                          \n",
      "\n",
      "  2%|▏         | 1/48 [00:02<01:55,  2.46s/it]\u001b[A\n",
      "  4%|▍         | 2/48 [00:02<01:21,  1.78s/it]\u001b[A\n",
      "  6%|▋         | 3/48 [00:02<00:58,  1.31s/it]\u001b[A\n",
      "  8%|▊         | 4/48 [00:03<00:42,  1.02it/s]\u001b[A\n",
      " 10%|█         | 5/48 [00:04<00:46,  1.09s/it]\u001b[A\n",
      " 12%|█▎        | 6/48 [00:04<00:34,  1.21it/s]\u001b[A\n",
      " 15%|█▍        | 7/48 [00:04<00:26,  1.57it/s]\u001b[A\n",
      " 17%|█▋        | 8/48 [00:05<00:20,  1.97it/s]\u001b[A\n",
      "100%|██████████| 48/48 [00:24<00:00,  2.00it/s]           \n",
      "  0%|          | 0/12 [00:00<?, ?it/s]\n",
      "\n",
      "\n",
      "\n",
      "100%|██████████| 12/12 [00:06<00:00,  2.66it/s]\n"
     ]
    }
   ],
   "source": [
    "tfms = tfms_from_model(resnet34, sz, crop_type=CropType.NO)\n",
    "data = ImageClassifierData.from_csv(PATH, 'images', label_csv, tfms=tfms, val_idxs=val_idxs,\n",
    "                                    continuous=True, skip_header=False)\n",
    "learn = ConvLearner.pretrained(resnet34, data, precompute=True, opt_fn=optim.Adam, ps=0.5)"
   ]
  },
  {
   "cell_type": "code",
   "execution_count": 59,
   "metadata": {},
   "outputs": [
    {
     "data": {
      "application/vnd.jupyter.widget-view+json": {
       "model_id": "d2cc67b9651348cca859919914407dda"
      }
     },
     "metadata": {},
     "output_type": "display_data"
    },
    {
     "name": "stdout",
     "output_type": "stream",
     "text": [
      "\n",
      "\n",
      "\n",
      "\n",
      "  0%|          | 0/48 [00:00<?, ?it/s]\n",
      "\n",
      "\n",
      "\n",
      "                                                         \n",
      "\n",
      "\n",
      "\n",
      "\n",
      "\n",
      "\n",
      "\n",
      "[    0.       234.0974  4450.0396]\n"
     ]
    },
    {
     "data": {
      "image/png": "[encoded data removed]",
      "text/plain": [
       "<matplotlib.figure.Figure at 0x7fa84512d860>"
      ]
     },
     "metadata": {},
     "output_type": "display_data"
    }
   ],
   "source": [
    "lrf=learn.lr_find()\n",
    "learn.sched.plot()"
   ]
  },
  {
   "cell_type": "code",
   "execution_count": 60,
   "metadata": {},
   "outputs": [
    {
     "data": {
      "application/vnd.jupyter.widget-view+json": {
       "model_id": "8da402b11c1e45c7944d1e26e5b5da0f"
      }
     },
     "metadata": {},
     "output_type": "display_data"
    },
    {
     "name": "stdout",
     "output_type": "stream",
     "text": [
      "\n",
      "\n",
      "\n",
      "  0%|          | 0/48 [00:00<?, ?it/s]\n",
      "\n",
      "\n",
      "\n",
      "\n",
      "                                                         \n",
      "\n",
      "\n",
      "\n",
      "\n",
      "\n",
      "\n",
      "\n",
      "[   0.      238.681   364.7433]\n",
      "\n",
      "\n",
      "\n",
      "\n",
      "  0%|          | 0/48 [00:00<?, ?it/s]\n",
      "\n",
      "\n",
      "\n",
      "                                                         \n",
      "\n",
      "\n",
      "\n",
      "\n",
      "\n",
      "\n",
      "\n",
      "[   1.      263.2261  186.7536]\n",
      "\n",
      "\n",
      "\n",
      "\n",
      "  0%|          | 0/48 [00:00<?, ?it/s]\n",
      "\n",
      "\n",
      "\n",
      "                                                         \n",
      "\n",
      "\n",
      "\n",
      "\n",
      "\n",
      "\n",
      "\n",
      "[   2.      210.889   168.2116]\n",
      "\n",
      "\n",
      "\n",
      "\n",
      "  0%|          | 0/48 [00:00<?, ?it/s]\n",
      "\n",
      "\n",
      "\n",
      "                                                         \n",
      "\n",
      "\n",
      "\n",
      "\n",
      "\n",
      "\n",
      "\n",
      "[   3.      176.0693  144.2513]\n",
      "\n",
      "\n",
      "\n",
      "\n",
      "  0%|          | 0/48 [00:00<?, ?it/s]\n",
      "\n",
      "\n",
      "\n",
      "                                                         \n",
      "\n",
      "\n",
      "\n",
      "\n",
      "\n",
      "\n",
      "\n",
      "[   4.      151.4565  129.4032]\n",
      "\n",
      "\n",
      "\n",
      "\n",
      "  0%|          | 0/48 [00:00<?, ?it/s]\n",
      "\n",
      "\n",
      "\n",
      "                                                         \n",
      "\n",
      "\n",
      "\n",
      "\n",
      "\n",
      "\n",
      "\n",
      "[   5.      138.8294  123.4013]\n",
      "\n",
      "\n",
      "\n",
      "  0%|          | 0/48 [00:00<?, ?it/s]\n",
      "\n",
      "\n",
      "\n",
      "\n",
      "                                                         \n",
      "\n",
      "\n",
      "\n",
      "\n",
      "\n",
      "\n",
      "\n",
      "[   6.      131.2182  122.3169]\n",
      "\n",
      "\n",
      "\n",
      "  0%|          | 0/48 [00:00<?, ?it/s]\n",
      "\n",
      "\n",
      "\n",
      "\n",
      "                                                         \n",
      "\n",
      "\n",
      "\n",
      "\n",
      "\n",
      "\n",
      "\n",
      "[   7.      125.9923  114.4574]\n",
      "\n",
      "\n",
      "\n",
      "  0%|          | 0/48 [00:00<?, ?it/s]\n",
      "\n",
      "\n",
      "\n",
      "\n",
      "                                                         \n",
      "\n",
      "\n",
      "\n",
      "\n",
      "\n",
      "\n",
      "\n",
      "[   8.      121.7743  109.9652]\n",
      "\n",
      "\n",
      "\n",
      "  0%|          | 0/48 [00:00<?, ?it/s]\n",
      "\n",
      "\n",
      "\n",
      "\n",
      "                                                         \n",
      "\n",
      "\n",
      "\n",
      "\n",
      "\n",
      "\n",
      "\n",
      "[   9.      117.3897  104.9769]\n",
      "\n",
      "\n",
      "\n",
      "  0%|          | 0/48 [00:00<?, ?it/s]\n",
      "\n",
      "\n",
      "\n",
      "\n",
      "                                                         \n",
      "\n",
      "\n",
      "\n",
      "\n",
      "\n",
      "\n",
      "\n",
      "[  10.      112.0477  100.5813]\n",
      "\n",
      "\n",
      "\n",
      "  0%|          | 0/48 [00:00<?, ?it/s]\n",
      "\n",
      "\n",
      "\n",
      "\n",
      "                                                         \n",
      "\n",
      "\n",
      "\n",
      "\n",
      "\n",
      "\n",
      "\n",
      "[  11.      109.0689   98.3695]\n",
      "\n",
      "\n",
      "\n",
      "\n",
      "  0%|          | 0/48 [00:00<?, ?it/s]\n",
      "\n",
      "\n",
      "\n",
      "                                                         \n",
      "\n",
      "\n",
      "\n",
      "\n",
      "\n",
      "[  12.      106.7465   98.7911]\n",
      "[  13.      105.5374   97.5796]                          \n",
      "[  14.      105.4487   96.7256]                          \n",
      "[  15.      104.3599   98.1003]                          \n",
      "[  16.      106.321    95.0515]                          \n",
      "[  17.      104.1545   94.0836]                          \n",
      "[  18.      102.1962   92.3605]                          \n",
      "[  19.      100.5235   91.6409]                          \n",
      "[ 20.      99.355   89.3562]                              \n",
      "[ 21.      98.3139  88.7288]                              \n",
      "[ 22.      97.8664  87.1307]                              \n",
      "[ 23.      95.7317  85.4799]                              \n",
      "[ 24.      93.4525  86.0595]                              \n",
      "[ 25.      93.5365  83.7847]                              \n",
      "[ 26.      93.2249  84.8397]                              \n",
      "[ 27.      93.2065  85.1662]                              \n",
      "[ 28.      91.5837  83.8048]                              \n",
      "[ 29.      90.2605  83.596 ]                              \n",
      "[ 30.      92.2839  82.4151]                              \n",
      "\n"
     ]
    }
   ],
   "source": [
    "learn.fit(0.01, 5, cycle_len=1, cycle_mult=2)"
   ]
  },
  {
   "cell_type": "code",
   "execution_count": 61,
   "metadata": {},
   "outputs": [
    {
     "data": {
      "application/vnd.jupyter.widget-view+json": {
       "model_id": "bdc6596132d24ff983228f8d215718cc"
      }
     },
     "metadata": {},
     "output_type": "display_data"
    },
    {
     "name": "stdout",
     "output_type": "stream",
     "text": [
      "[  0.0000e+00   1.3241e+02   3.5670e+13]                 \n",
      "\n"
     ]
    },
    {
     "data": {
      "image/png": "[encoded data removed]",
      "text/plain": [
       "<matplotlib.figure.Figure at 0x7fa844f0f780>"
      ]
     },
     "metadata": {},
     "output_type": "display_data"
    }
   ],
   "source": [
    "lrs=np.array([1e-4,1e-3,1e-2])\n",
    "learn.precompute=False\n",
    "\n",
    "learn.unfreeze()\n",
    "lrf=learn.lr_find(lrs/1e3)\n",
    "learn.sched.plot()"
   ]
  },
  {
   "cell_type": "code",
   "execution_count": 62,
   "metadata": {},
   "outputs": [
    {
     "data": {
      "application/vnd.jupyter.widget-view+json": {
       "model_id": "a7cfab3aeff5432ebbdd2379b098790c"
      }
     },
     "metadata": {},
     "output_type": "display_data"
    },
    {
     "name": "stdout",
     "output_type": "stream",
     "text": [
      "[  0.      71.1009  94.999 ]                             \n",
      "[  1.      88.0754  82.1335]                             \n",
      "[  2.      87.4359  77.1687]                              \n",
      "[  3.      86.5974  80.8263]                              \n",
      "[  4.      83.9792  71.4977]                              \n",
      "[  5.      79.1773  69.3897]                              \n",
      "[  6.      77.2359  68.047 ]                              \n",
      "[  7.      77.6487  77.4456]                              \n",
      "[  8.      78.9041  73.7645]                              \n",
      "[  9.      75.8422  68.0503]                              \n",
      "[ 10.      73.4623  64.6083]                              \n",
      "[ 11.      72.2943  63.5834]                              \n",
      "[ 12.      70.4287  62.1409]                              \n",
      "[ 13.      66.5874  59.9783]                              \n",
      "[ 14.      66.0414  60.785 ]                              \n",
      "[ 15.      66.3314  65.7976]                              \n",
      "[ 16.      69.3549  65.7114]                              \n",
      "[ 17.      67.7767  64.7094]                              \n",
      "[ 18.      67.158   61.4241]                              \n",
      "[ 19.      65.6192  58.7482]                              \n",
      "[ 20.      62.9917  60.5301]                              \n",
      "[ 21.      64.713   61.0712]                              \n",
      "[ 22.      61.309   56.2067]                              \n",
      "[ 23.      58.6235  55.2833]                              \n",
      "[ 24.      57.5971  55.6252]                              \n",
      "[ 25.      58.6757  55.0441]                              \n",
      "[ 26.      57.1917  52.6833]                              \n",
      "[ 27.      56.4466  53.1598]                              \n",
      "[ 28.      56.      51.4715]                              \n",
      "[ 29.      55.0628  52.217 ]                              \n",
      "[ 30.      55.1955  51.3541]                              \n",
      "\n"
     ]
    }
   ],
   "source": [
    "lrs=np.array([1e-5,1e-4,1e-3])\n",
    "learn.fit(lrs, 5, cycle_len=1, cycle_mult=2)"
   ]
  },
  {
   "cell_type": "markdown",
   "metadata": {},
   "source": [
    "## Looking into size of images"
   ]
  },
  {
   "cell_type": "code",
   "execution_count": null,
   "metadata": {
    "collapsed": true
   },
   "outputs": [],
   "source": [
    "f=\"img_06297.jpg\"\n",
    "PIL.Image.open(PATH+\"images/\" + f).size"
   ]
  },
  {
   "cell_type": "code",
   "execution_count": null,
   "metadata": {
    "collapsed": true
   },
   "outputs": [],
   "source": [
    "sizes = [PIL.Image.open(PATH+f).size for f in data.trn_ds.fnames]\n",
    "raw_val_sizes = [PIL.Image.open(PATH+f).size for f in data.val_ds.fnames]"
   ]
  }
 ],
 "metadata": {
  "kernelspec": {
   "display_name": "Python 3",
   "language": "python",
   "name": "python3"
  },
  "language_info": {
   "codemirror_mode": {
    "name": "ipython",
    "version": 3
   },
   "file_extension": ".py",
   "mimetype": "text/x-python",
   "name": "python",
   "nbconvert_exporter": "python",
   "pygments_lexer": "ipython3",
   "version": "3.6.2"
  }
 },
 "nbformat": 4,
 "nbformat_minor": 2
}
