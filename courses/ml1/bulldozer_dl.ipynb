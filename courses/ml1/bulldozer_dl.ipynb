{
 "cells": [
  {
   "cell_type": "markdown",
   "metadata": {},
   "source": [
    "# Deep learning for Bulldozers"
   ]
  },
  {
   "cell_type": "code",
   "execution_count": 1,
   "metadata": {},
   "outputs": [],
   "source": [
    "%load_ext autoreload\n",
    "%autoreload 2"
   ]
  },
  {
   "cell_type": "code",
   "execution_count": 2,
   "metadata": {
    "collapsed": true
   },
   "outputs": [],
   "source": [
    "%matplotlib inline\n",
    "\n",
    "from fastai.imports import *\n",
    "from fastai.torch_imports import *\n",
    "from fastai.dataset import *\n",
    "from fastai.learner import *\n",
    "from fastai.structured import *\n",
    "from fastai.column_data import *"
   ]
  },
  {
   "cell_type": "markdown",
   "metadata": {
    "heading_collapsed": true
   },
   "source": [
    "# Load in our data from last lesson"
   ]
  },
  {
   "cell_type": "code",
   "execution_count": 3,
   "metadata": {
    "collapsed": true,
    "hidden": true
   },
   "outputs": [],
   "source": [
    "dep = 'SalePrice'\n",
    "PATH = \"data/bulldozers/\"\n",
    "df_raw = pd.read_feather('tmp/raw')\n",
    "keep_cols = list(np.load('tmp/keep_cols.npy'))"
   ]
  },
  {
   "cell_type": "code",
   "execution_count": 4,
   "metadata": {
    "hidden": true
   },
   "outputs": [],
   "source": [
    "df_raw.loc[df_raw.YearMade<1950, 'YearMade'] = 1950\n",
    "df_raw['age'] = df_raw.saleYear-df_raw.YearMade\n",
    "df_raw = df_raw[keep_cols+['age', dep]].copy()\n",
    "df_indep = df_raw.drop(dep,axis=1)\n",
    "\n",
    "n_valid = 12000\n",
    "n_trn = len(df_raw)-n_valid"
   ]
  },
  {
   "cell_type": "code",
   "execution_count": 5,
   "metadata": {
    "hidden": true
   },
   "outputs": [
    {
     "data": {
      "text/plain": [
       "'YearMade Coupler_System ProductSize fiProductClassDesc ModelID saleElapsed fiSecondaryDesc Enclosure Hydraulics_Flow fiModelDesc fiModelDescriptor Hydraulics Drive_System ProductGroupDesc Tire_Size saleDay state saleWeek ProductGroup Turbocharged age'"
      ]
     },
     "execution_count": 5,
     "metadata": {},
     "output_type": "execute_result"
    }
   ],
   "source": [
    "cat_flds = [n for n in df_indep.columns if df_raw[n].nunique()<n_trn/50]\n",
    "' '.join(cat_flds)"
   ]
  },
  {
   "cell_type": "code",
   "execution_count": 6,
   "metadata": {
    "hidden": true
   },
   "outputs": [
    {
     "data": {
      "text/plain": [
       "[]"
      ]
     },
     "execution_count": 6,
     "metadata": {},
     "output_type": "execute_result"
    }
   ],
   "source": [
    "cat_flds.remove('saleElapsed')\n",
    "cat_flds.remove('age')\n",
    "cat_flds.remove('YearMade')\n",
    "[n for n in df_indep.drop(cat_flds,axis=1).columns if not is_numeric_dtype(df_raw[n])]"
   ]
  },
  {
   "cell_type": "code",
   "execution_count": 7,
   "metadata": {
    "hidden": true
   },
   "outputs": [
    {
     "data": {
      "text/plain": [
       "'YearMade saleElapsed SalesID MachineID age'"
      ]
     },
     "execution_count": 7,
     "metadata": {},
     "output_type": "execute_result"
    }
   ],
   "source": [
    "for n in cat_flds: df_raw[n] = df_raw[n].astype('category').cat.as_ordered()\n",
    "\n",
    "cont_flds = [n for n in df_indep.columns if n not in cat_flds]\n",
    "' '.join(cont_flds)"
   ]
  },
  {
   "cell_type": "code",
   "execution_count": 8,
   "metadata": {
    "hidden": true
   },
   "outputs": [],
   "source": [
    "df_raw = df_raw[cat_flds+cont_flds+[dep]]\n",
    "df, y, mapper = proc_df(df_raw, 'SalePrice', do_scale=True)\n",
    "\n",
    "val_idx = list(range(n_trn, len(df)))\n",
    "md = ColumnarModelData.from_data_frame(PATH, val_idx, df, y, cat_flds=cat_flds, bs=64)"
   ]
  },
  {
   "cell_type": "code",
   "execution_count": 9,
   "metadata": {
    "hidden": true
   },
   "outputs": [
    {
     "data": {
      "text/html": [
       "<div>\n",
       "<style>\n",
       "    .dataframe thead tr:only-child th {\n",
       "        text-align: right;\n",
       "    }\n",
       "\n",
       "    .dataframe thead th {\n",
       "        text-align: left;\n",
       "    }\n",
       "\n",
       "    .dataframe tbody tr th {\n",
       "        vertical-align: top;\n",
       "    }\n",
       "</style>\n",
       "<table border=\"1\" class=\"dataframe\">\n",
       "  <thead>\n",
       "    <tr style=\"text-align: right;\">\n",
       "      <th></th>\n",
       "      <th>Coupler_System</th>\n",
       "      <th>ProductSize</th>\n",
       "      <th>fiProductClassDesc</th>\n",
       "      <th>ModelID</th>\n",
       "      <th>fiSecondaryDesc</th>\n",
       "      <th>Enclosure</th>\n",
       "      <th>Hydraulics_Flow</th>\n",
       "      <th>fiModelDesc</th>\n",
       "      <th>fiModelDescriptor</th>\n",
       "      <th>Hydraulics</th>\n",
       "      <th>...</th>\n",
       "      <th>saleDay</th>\n",
       "      <th>state</th>\n",
       "      <th>saleWeek</th>\n",
       "      <th>ProductGroup</th>\n",
       "      <th>Turbocharged</th>\n",
       "      <th>YearMade</th>\n",
       "      <th>saleElapsed</th>\n",
       "      <th>SalesID</th>\n",
       "      <th>MachineID</th>\n",
       "      <th>age</th>\n",
       "    </tr>\n",
       "  </thead>\n",
       "  <tbody>\n",
       "    <tr>\n",
       "      <th>0</th>\n",
       "      <td>0</td>\n",
       "      <td>0</td>\n",
       "      <td>59</td>\n",
       "      <td>644</td>\n",
       "      <td>41</td>\n",
       "      <td>3</td>\n",
       "      <td>0</td>\n",
       "      <td>950</td>\n",
       "      <td>0</td>\n",
       "      <td>1</td>\n",
       "      <td>...</td>\n",
       "      <td>16</td>\n",
       "      <td>1</td>\n",
       "      <td>46</td>\n",
       "      <td>6</td>\n",
       "      <td>0</td>\n",
       "      <td>0.913196</td>\n",
       "      <td>0.397377</td>\n",
       "      <td>-0.858580</td>\n",
       "      <td>-0.496185</td>\n",
       "      <td>-0.828814</td>\n",
       "    </tr>\n",
       "    <tr>\n",
       "      <th>1</th>\n",
       "      <td>0</td>\n",
       "      <td>4</td>\n",
       "      <td>62</td>\n",
       "      <td>11</td>\n",
       "      <td>55</td>\n",
       "      <td>3</td>\n",
       "      <td>0</td>\n",
       "      <td>1725</td>\n",
       "      <td>0</td>\n",
       "      <td>1</td>\n",
       "      <td>...</td>\n",
       "      <td>26</td>\n",
       "      <td>33</td>\n",
       "      <td>13</td>\n",
       "      <td>6</td>\n",
       "      <td>0</td>\n",
       "      <td>0.405756</td>\n",
       "      <td>-0.061496</td>\n",
       "      <td>-0.858578</td>\n",
       "      <td>-2.494936</td>\n",
       "      <td>-0.430749</td>\n",
       "    </tr>\n",
       "    <tr>\n",
       "      <th>2</th>\n",
       "      <td>1</td>\n",
       "      <td>0</td>\n",
       "      <td>39</td>\n",
       "      <td>1542</td>\n",
       "      <td>0</td>\n",
       "      <td>6</td>\n",
       "      <td>3</td>\n",
       "      <td>331</td>\n",
       "      <td>0</td>\n",
       "      <td>4</td>\n",
       "      <td>...</td>\n",
       "      <td>26</td>\n",
       "      <td>32</td>\n",
       "      <td>9</td>\n",
       "      <td>3</td>\n",
       "      <td>0</td>\n",
       "      <td>0.722906</td>\n",
       "      <td>-0.075286</td>\n",
       "      <td>-0.858577</td>\n",
       "      <td>-1.775759</td>\n",
       "      <td>-0.762470</td>\n",
       "    </tr>\n",
       "    <tr>\n",
       "      <th>3</th>\n",
       "      <td>0</td>\n",
       "      <td>6</td>\n",
       "      <td>8</td>\n",
       "      <td>110</td>\n",
       "      <td>0</td>\n",
       "      <td>3</td>\n",
       "      <td>0</td>\n",
       "      <td>3674</td>\n",
       "      <td>0</td>\n",
       "      <td>1</td>\n",
       "      <td>...</td>\n",
       "      <td>19</td>\n",
       "      <td>44</td>\n",
       "      <td>20</td>\n",
       "      <td>4</td>\n",
       "      <td>0</td>\n",
       "      <td>0.722906</td>\n",
       "      <td>1.179600</td>\n",
       "      <td>-0.858574</td>\n",
       "      <td>-0.434096</td>\n",
       "      <td>-0.298060</td>\n",
       "    </tr>\n",
       "    <tr>\n",
       "      <th>4</th>\n",
       "      <td>1</td>\n",
       "      <td>0</td>\n",
       "      <td>40</td>\n",
       "      <td>3540</td>\n",
       "      <td>0</td>\n",
       "      <td>1</td>\n",
       "      <td>3</td>\n",
       "      <td>4208</td>\n",
       "      <td>0</td>\n",
       "      <td>4</td>\n",
       "      <td>...</td>\n",
       "      <td>23</td>\n",
       "      <td>32</td>\n",
       "      <td>30</td>\n",
       "      <td>3</td>\n",
       "      <td>0</td>\n",
       "      <td>1.103486</td>\n",
       "      <td>0.863382</td>\n",
       "      <td>-0.858572</td>\n",
       "      <td>-0.364020</td>\n",
       "      <td>-0.828814</td>\n",
       "    </tr>\n",
       "  </tbody>\n",
       "</table>\n",
       "<p>5 rows × 23 columns</p>\n",
       "</div>"
      ],
      "text/plain": [
       "   Coupler_System  ProductSize  fiProductClassDesc  ModelID  fiSecondaryDesc  \\\n",
       "0               0            0                  59      644               41   \n",
       "1               0            4                  62       11               55   \n",
       "2               1            0                  39     1542                0   \n",
       "3               0            6                   8      110                0   \n",
       "4               1            0                  40     3540                0   \n",
       "\n",
       "   Enclosure  Hydraulics_Flow  fiModelDesc  fiModelDescriptor  Hydraulics  \\\n",
       "0          3                0          950                  0           1   \n",
       "1          3                0         1725                  0           1   \n",
       "2          6                3          331                  0           4   \n",
       "3          3                0         3674                  0           1   \n",
       "4          1                3         4208                  0           4   \n",
       "\n",
       "     ...     saleDay  state  saleWeek  ProductGroup  Turbocharged  YearMade  \\\n",
       "0    ...          16      1        46             6             0  0.913196   \n",
       "1    ...          26     33        13             6             0  0.405756   \n",
       "2    ...          26     32         9             3             0  0.722906   \n",
       "3    ...          19     44        20             4             0  0.722906   \n",
       "4    ...          23     32        30             3             0  1.103486   \n",
       "\n",
       "   saleElapsed   SalesID  MachineID       age  \n",
       "0     0.397377 -0.858580  -0.496185 -0.828814  \n",
       "1    -0.061496 -0.858578  -2.494936 -0.430749  \n",
       "2    -0.075286 -0.858577  -1.775759 -0.762470  \n",
       "3     1.179600 -0.858574  -0.434096 -0.298060  \n",
       "4     0.863382 -0.858572  -0.364020 -0.828814  \n",
       "\n",
       "[5 rows x 23 columns]"
      ]
     },
     "execution_count": 9,
     "metadata": {},
     "output_type": "execute_result"
    }
   ],
   "source": [
    "df.head()"
   ]
  },
  {
   "cell_type": "markdown",
   "metadata": {
    "collapsed": true
   },
   "source": [
    "# Model"
   ]
  },
  {
   "cell_type": "code",
   "execution_count": 10,
   "metadata": {
    "collapsed": true
   },
   "outputs": [],
   "source": [
    "def rmse(x,y): return math.sqrt(((x-y)**2).mean())"
   ]
  },
  {
   "cell_type": "code",
   "execution_count": 11,
   "metadata": {},
   "outputs": [
    {
     "data": {
      "text/plain": [
       "{'Coupler_System': 3,\n",
       " 'Drive_System': 5,\n",
       " 'Enclosure': 7,\n",
       " 'Hydraulics': 13,\n",
       " 'Hydraulics_Flow': 4,\n",
       " 'ModelID': 5219,\n",
       " 'ProductGroup': 7,\n",
       " 'ProductGroupDesc': 7,\n",
       " 'ProductSize': 7,\n",
       " 'Tire_Size': 18,\n",
       " 'Turbocharged': 3,\n",
       " 'fiModelDesc': 5000,\n",
       " 'fiModelDescriptor': 140,\n",
       " 'fiProductClassDesc': 75,\n",
       " 'fiSecondaryDesc': 176,\n",
       " 'saleDay': 32,\n",
       " 'saleWeek': 54,\n",
       " 'state': 54}"
      ]
     },
     "execution_count": 11,
     "metadata": {},
     "output_type": "execute_result"
    }
   ],
   "source": [
    "emb_c = {n: len(c.cat.categories)+1 for n,c in df_raw[cat_flds].items()}\n",
    "emb_c"
   ]
  },
  {
   "cell_type": "code",
   "execution_count": 12,
   "metadata": {},
   "outputs": [],
   "source": [
    "emb_szs = [(c, min(50, (c+1)//2)) for _,c in emb_c.items()]"
   ]
  },
  {
   "cell_type": "code",
   "execution_count": 13,
   "metadata": {},
   "outputs": [],
   "source": [
    "m = md.get_learner(emb_szs, len(cont_flds), 0.05, [200,1], [0.05])"
   ]
  },
  {
   "cell_type": "code",
   "execution_count": 15,
   "metadata": {},
   "outputs": [
    {
     "data": {
      "application/vnd.jupyter.widget-view+json": {
       "model_id": "77bdef5002bb4449ac57dc8ae8b1a12b",
       "version_major": 2,
       "version_minor": 0
      },
      "text/plain": [
       "A Jupyter Widget"
      ]
     },
     "metadata": {},
     "output_type": "display_data"
    },
    {
     "name": "stdout",
     "output_type": "stream",
     "text": [
      " 57%|█████▋    | 3476/6081 [00:19<00:13, 195.75it/s, loss=0.551]"
     ]
    }
   ],
   "source": [
    "m.lr_find()"
   ]
  },
  {
   "cell_type": "code",
   "execution_count": 16,
   "metadata": {},
   "outputs": [
    {
     "data": {
      "image/png": "[encoded data removed]",
      "text/plain": [
       "<matplotlib.figure.Figure at 0x7fed432cab70>"
      ]
     },
     "metadata": {},
     "output_type": "display_data"
    }
   ],
   "source": [
    "m.sched.plot(900)"
   ]
  },
  {
   "cell_type": "code",
   "execution_count": 15,
   "metadata": {
    "collapsed": true
   },
   "outputs": [],
   "source": [
    "lr = 1e-3"
   ]
  },
  {
   "cell_type": "code",
   "execution_count": 76,
   "metadata": {},
   "outputs": [
    {
     "data": {
      "application/vnd.jupyter.widget-view+json": {
       "model_id": "d2a83dafb464453a95a07f245391132a",
       "version_major": 2,
       "version_minor": 0
      },
      "text/plain": [
       "A Jupyter Widget"
      ]
     },
     "metadata": {},
     "output_type": "display_data"
    },
    {
     "name": "stdout",
     "output_type": "stream",
     "text": [
      "[ 0.      0.2444  0.1276]                                       \n",
      "[ 1.      0.1648  0.091 ]                                       \n",
      "[ 2.      0.1437  0.0758]                                       \n",
      "[ 3.      0.1402  0.0869]                                       \n",
      "[ 4.      0.123   0.0687]                                       \n",
      "[ 5.      0.1039  0.0784]                                        \n",
      "[ 6.      0.0981  0.0663]                                        \n",
      "\n"
     ]
    }
   ],
   "source": [
    "m.fit(1e-3, 3, 1e-6, cycle_len=1, cycle_mult=2)"
   ]
  },
  {
   "cell_type": "code",
   "execution_count": 77,
   "metadata": {},
   "outputs": [
    {
     "data": {
      "application/vnd.jupyter.widget-view+json": {
       "model_id": "5169235e5a3b4f6a9feef8c4c05c8cf4",
       "version_major": 2,
       "version_minor": 0
      },
      "text/plain": [
       "A Jupyter Widget"
      ]
     },
     "metadata": {},
     "output_type": "display_data"
    },
    {
     "name": "stdout",
     "output_type": "stream",
     "text": [
      "[ 0.      0.1096  0.0744]                                        \n",
      "[ 1.      0.1007  0.0655]                                        \n",
      "[ 2.      0.0859  0.0653]                                        \n",
      "[ 3.      0.0824  0.0622]                                        \n",
      "[ 4.      0.0954  0.1359]                                        \n",
      "[ 5.      0.0794  0.071 ]                                        \n",
      "[ 6.      0.0746  0.0604]                                        \n",
      "[ 7.      0.0726  0.0572]                                        \n",
      "[ 8.      0.0789  0.0582]                                        \n",
      "[ 9.     0.074  0.061]                                           \n",
      "[ 10.      0.069   0.062]                                        \n",
      "[ 11.       0.0667   0.056 ]                                     \n",
      "\n"
     ]
    }
   ],
   "source": [
    "m.fit(1e-3, 3, 1e-6, cycle_len=4)"
   ]
  },
  {
   "cell_type": "code",
   "execution_count": 78,
   "metadata": {},
   "outputs": [
    {
     "data": {
      "application/vnd.jupyter.widget-view+json": {
       "model_id": "4729f17033ae41ff984da8495a4ccb2b",
       "version_major": 2,
       "version_minor": 0
      },
      "text/plain": [
       "A Jupyter Widget"
      ]
     },
     "metadata": {},
     "output_type": "display_data"
    },
    {
     "name": "stdout",
     "output_type": "stream",
     "text": [
      "[ 0.      0.0814  0.0662]                                        \n",
      "[ 1.      0.0668  0.0562]                                        \n",
      "[ 2.      0.0675  0.0912]                                        \n",
      "[ 3.      0.0618  0.0554]                                        \n",
      "[ 4.      0.0607  0.0538]                                        \n",
      "[ 5.      0.0579  0.0541]                                        \n",
      "[ 6.      0.0556  0.0552]                                        \n",
      "[ 7.      0.0546  0.0545]                                        \n",
      "\n"
     ]
    }
   ],
   "source": [
    "m.fit(1e-3, 1, 1e-6, cycle_len=8)"
   ]
  },
  {
   "cell_type": "code",
   "execution_count": null,
   "metadata": {
    "collapsed": true
   },
   "outputs": [],
   "source": []
  }
 ],
 "metadata": {
  "kernelspec": {
   "display_name": "Python 3",
   "language": "python",
   "name": "python3"
  },
  "language_info": {
   "codemirror_mode": {
    "name": "ipython",
    "version": 3
   },
   "file_extension": ".py",
   "mimetype": "text/x-python",
   "name": "python",
   "nbconvert_exporter": "python",
   "pygments_lexer": "ipython3",
   "version": "3.6.2"
  },
  "toc": {
   "colors": {
    "hover_highlight": "#DAA520",
    "navigate_num": "#000000",
    "navigate_text": "#333333",
    "running_highlight": "#FF0000",
    "selected_highlight": "#FFD700",
    "sidebar_border": "#EEEEEE",
    "wrapper_background": "#FFFFFF"
   },
   "moveMenuLeft": true,
   "nav_menu": {
    "height": "512px",
    "width": "252px"
   },
   "navigate_menu": true,
   "number_sections": true,
   "sideBar": true,
   "threshold": 4,
   "toc_cell": false,
   "toc_section_display": "block",
   "toc_window_display": false,
   "widenNotebook": false
  }
 },
 "nbformat": 4,
 "nbformat_minor": 2
}
