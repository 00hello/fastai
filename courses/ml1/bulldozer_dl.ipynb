{
 "cells": [
  {
   "cell_type": "markdown",
   "metadata": {},
   "source": [
    "# Deep learning for Bulldozers"
   ]
  },
  {
   "cell_type": "code",
   "execution_count": 1,
   "metadata": {
    "collapsed": true
   },
   "outputs": [],
   "source": [
    "%load_ext autoreload\n",
    "%autoreload 2"
   ]
  },
  {
   "cell_type": "code",
   "execution_count": 2,
   "metadata": {
    "collapsed": true
   },
   "outputs": [],
   "source": [
    "%matplotlib inline\n",
    "\n",
    "from fastai.imports import *\n",
    "from fastai.torch_imports import *\n",
    "from fastai.dataset import *\n",
    "from fastai.learner import *\n",
    "from fastai.structured import *\n",
    "from fastai.column_data import *"
   ]
  },
  {
   "cell_type": "markdown",
   "metadata": {},
   "source": [
    "## Load in our data from last lesson"
   ]
  },
  {
   "cell_type": "code",
   "execution_count": 47,
   "metadata": {
    "collapsed": true
   },
   "outputs": [],
   "source": [
    "dep = 'SalePrice'\n",
    "PATH = \"data/bulldozers/\"\n",
    "df_raw = pd.read_feather('tmp/raw')\n",
    "keep_cols = list(np.load('tmp/keep_cols.npy'))"
   ]
  },
  {
   "cell_type": "code",
   "execution_count": 48,
   "metadata": {},
   "outputs": [],
   "source": [
    "df_raw.loc[df_raw.YearMade<1950, 'YearMade'] = 1950\n",
    "df_raw['age'] = df_raw.saleYear-df_raw.YearMade\n",
    "df_raw = df_raw[keep_cols+['age', dep]].copy()\n",
    "df_indep = df_raw.drop(dep,axis=1)\n",
    "\n",
    "n_valid = 12000\n",
    "n_trn = len(df_raw)-n_valid"
   ]
  },
  {
   "cell_type": "code",
   "execution_count": 49,
   "metadata": {},
   "outputs": [
    {
     "data": {
      "text/plain": [
       "'YearMade Coupler_System ProductSize fiProductClassDesc ModelID saleElapsed fiSecondaryDesc Enclosure Hydraulics_Flow fiModelDesc fiModelDescriptor Hydraulics Drive_System ProductGroupDesc Tire_Size saleDay state saleWeek ProductGroup Turbocharged age'"
      ]
     },
     "execution_count": 49,
     "metadata": {},
     "output_type": "execute_result"
    }
   ],
   "source": [
    "cat_flds = [n for n in df_indep.columns if df_raw[n].nunique()<n_trn/50]\n",
    "' '.join(cat_flds)"
   ]
  },
  {
   "cell_type": "code",
   "execution_count": 50,
   "metadata": {},
   "outputs": [
    {
     "data": {
      "text/plain": [
       "[]"
      ]
     },
     "execution_count": 50,
     "metadata": {},
     "output_type": "execute_result"
    }
   ],
   "source": [
    "cat_flds.remove('saleElapsed')\n",
    "cat_flds.remove('age')\n",
    "# cat_flds.remove('YearMade')\n",
    "[n for n in df_indep.drop(cat_flds,axis=1).columns if not is_numeric_dtype(df_raw[n])]"
   ]
  },
  {
   "cell_type": "code",
   "execution_count": 51,
   "metadata": {},
   "outputs": [
    {
     "data": {
      "text/plain": [
       "'saleElapsed SalesID MachineID age'"
      ]
     },
     "execution_count": 51,
     "metadata": {},
     "output_type": "execute_result"
    }
   ],
   "source": [
    "for n in cat_flds: df_raw[n] = df_raw[n].astype('category').cat.as_ordered()\n",
    "\n",
    "cont_flds = [n for n in df_indep.columns if n not in cat_flds]\n",
    "' '.join(cont_flds)"
   ]
  },
  {
   "cell_type": "code",
   "execution_count": 52,
   "metadata": {},
   "outputs": [],
   "source": [
    "df_raw = df_raw[cat_flds+cont_flds+[dep]]\n",
    "df, y, mapper = proc_df(df_raw, 'SalePrice', do_scale=True)\n",
    "\n",
    "val_idx = list(range(n_trn, len(df)))\n",
    "md = ColumnarModelData.from_data_frame(PATH, val_idx, df, y, cat_flds=cat_flds, bs=64)"
   ]
  },
  {
   "cell_type": "code",
   "execution_count": 53,
   "metadata": {},
   "outputs": [
    {
     "data": {
      "text/html": [
       "<div>\n",
       "<style>\n",
       "    .dataframe thead tr:only-child th {\n",
       "        text-align: right;\n",
       "    }\n",
       "\n",
       "    .dataframe thead th {\n",
       "        text-align: left;\n",
       "    }\n",
       "\n",
       "    .dataframe tbody tr th {\n",
       "        vertical-align: top;\n",
       "    }\n",
       "</style>\n",
       "<table border=\"1\" class=\"dataframe\">\n",
       "  <thead>\n",
       "    <tr style=\"text-align: right;\">\n",
       "      <th></th>\n",
       "      <th>YearMade</th>\n",
       "      <th>Coupler_System</th>\n",
       "      <th>ProductSize</th>\n",
       "      <th>fiProductClassDesc</th>\n",
       "      <th>ModelID</th>\n",
       "      <th>fiSecondaryDesc</th>\n",
       "      <th>Enclosure</th>\n",
       "      <th>Hydraulics_Flow</th>\n",
       "      <th>fiModelDesc</th>\n",
       "      <th>fiModelDescriptor</th>\n",
       "      <th>...</th>\n",
       "      <th>Tire_Size</th>\n",
       "      <th>saleDay</th>\n",
       "      <th>state</th>\n",
       "      <th>saleWeek</th>\n",
       "      <th>ProductGroup</th>\n",
       "      <th>Turbocharged</th>\n",
       "      <th>saleElapsed</th>\n",
       "      <th>SalesID</th>\n",
       "      <th>MachineID</th>\n",
       "      <th>age</th>\n",
       "    </tr>\n",
       "  </thead>\n",
       "  <tbody>\n",
       "    <tr>\n",
       "      <th>0</th>\n",
       "      <td>55</td>\n",
       "      <td>0</td>\n",
       "      <td>0</td>\n",
       "      <td>59</td>\n",
       "      <td>644</td>\n",
       "      <td>41</td>\n",
       "      <td>3</td>\n",
       "      <td>0</td>\n",
       "      <td>950</td>\n",
       "      <td>0</td>\n",
       "      <td>...</td>\n",
       "      <td>17</td>\n",
       "      <td>16</td>\n",
       "      <td>1</td>\n",
       "      <td>46</td>\n",
       "      <td>6</td>\n",
       "      <td>0</td>\n",
       "      <td>0.397377</td>\n",
       "      <td>-0.858580</td>\n",
       "      <td>-0.496185</td>\n",
       "      <td>-0.828814</td>\n",
       "    </tr>\n",
       "    <tr>\n",
       "      <th>1</th>\n",
       "      <td>47</td>\n",
       "      <td>0</td>\n",
       "      <td>4</td>\n",
       "      <td>62</td>\n",
       "      <td>11</td>\n",
       "      <td>55</td>\n",
       "      <td>3</td>\n",
       "      <td>0</td>\n",
       "      <td>1725</td>\n",
       "      <td>0</td>\n",
       "      <td>...</td>\n",
       "      <td>12</td>\n",
       "      <td>26</td>\n",
       "      <td>33</td>\n",
       "      <td>13</td>\n",
       "      <td>6</td>\n",
       "      <td>0</td>\n",
       "      <td>-0.061496</td>\n",
       "      <td>-0.858578</td>\n",
       "      <td>-2.494936</td>\n",
       "      <td>-0.430749</td>\n",
       "    </tr>\n",
       "    <tr>\n",
       "      <th>2</th>\n",
       "      <td>52</td>\n",
       "      <td>1</td>\n",
       "      <td>0</td>\n",
       "      <td>39</td>\n",
       "      <td>1542</td>\n",
       "      <td>0</td>\n",
       "      <td>6</td>\n",
       "      <td>3</td>\n",
       "      <td>331</td>\n",
       "      <td>0</td>\n",
       "      <td>...</td>\n",
       "      <td>0</td>\n",
       "      <td>26</td>\n",
       "      <td>32</td>\n",
       "      <td>9</td>\n",
       "      <td>3</td>\n",
       "      <td>0</td>\n",
       "      <td>-0.075286</td>\n",
       "      <td>-0.858577</td>\n",
       "      <td>-1.775759</td>\n",
       "      <td>-0.762470</td>\n",
       "    </tr>\n",
       "    <tr>\n",
       "      <th>3</th>\n",
       "      <td>52</td>\n",
       "      <td>0</td>\n",
       "      <td>6</td>\n",
       "      <td>8</td>\n",
       "      <td>110</td>\n",
       "      <td>0</td>\n",
       "      <td>3</td>\n",
       "      <td>0</td>\n",
       "      <td>3674</td>\n",
       "      <td>0</td>\n",
       "      <td>...</td>\n",
       "      <td>0</td>\n",
       "      <td>19</td>\n",
       "      <td>44</td>\n",
       "      <td>20</td>\n",
       "      <td>4</td>\n",
       "      <td>0</td>\n",
       "      <td>1.179600</td>\n",
       "      <td>-0.858574</td>\n",
       "      <td>-0.434096</td>\n",
       "      <td>-0.298060</td>\n",
       "    </tr>\n",
       "    <tr>\n",
       "      <th>4</th>\n",
       "      <td>58</td>\n",
       "      <td>1</td>\n",
       "      <td>0</td>\n",
       "      <td>40</td>\n",
       "      <td>3540</td>\n",
       "      <td>0</td>\n",
       "      <td>1</td>\n",
       "      <td>3</td>\n",
       "      <td>4208</td>\n",
       "      <td>0</td>\n",
       "      <td>...</td>\n",
       "      <td>0</td>\n",
       "      <td>23</td>\n",
       "      <td>32</td>\n",
       "      <td>30</td>\n",
       "      <td>3</td>\n",
       "      <td>0</td>\n",
       "      <td>0.863382</td>\n",
       "      <td>-0.858572</td>\n",
       "      <td>-0.364020</td>\n",
       "      <td>-0.828814</td>\n",
       "    </tr>\n",
       "  </tbody>\n",
       "</table>\n",
       "<p>5 rows × 23 columns</p>\n",
       "</div>"
      ],
      "text/plain": [
       "   YearMade  Coupler_System  ProductSize  fiProductClassDesc  ModelID  \\\n",
       "0        55               0            0                  59      644   \n",
       "1        47               0            4                  62       11   \n",
       "2        52               1            0                  39     1542   \n",
       "3        52               0            6                   8      110   \n",
       "4        58               1            0                  40     3540   \n",
       "\n",
       "   fiSecondaryDesc  Enclosure  Hydraulics_Flow  fiModelDesc  \\\n",
       "0               41          3                0          950   \n",
       "1               55          3                0         1725   \n",
       "2                0          6                3          331   \n",
       "3                0          3                0         3674   \n",
       "4                0          1                3         4208   \n",
       "\n",
       "   fiModelDescriptor    ...     Tire_Size  saleDay  state  saleWeek  \\\n",
       "0                  0    ...            17       16      1        46   \n",
       "1                  0    ...            12       26     33        13   \n",
       "2                  0    ...             0       26     32         9   \n",
       "3                  0    ...             0       19     44        20   \n",
       "4                  0    ...             0       23     32        30   \n",
       "\n",
       "   ProductGroup  Turbocharged  saleElapsed   SalesID  MachineID       age  \n",
       "0             6             0     0.397377 -0.858580  -0.496185 -0.828814  \n",
       "1             6             0    -0.061496 -0.858578  -2.494936 -0.430749  \n",
       "2             3             0    -0.075286 -0.858577  -1.775759 -0.762470  \n",
       "3             4             0     1.179600 -0.858574  -0.434096 -0.298060  \n",
       "4             3             0     0.863382 -0.858572  -0.364020 -0.828814  \n",
       "\n",
       "[5 rows x 23 columns]"
      ]
     },
     "execution_count": 53,
     "metadata": {},
     "output_type": "execute_result"
    }
   ],
   "source": [
    "df.head()"
   ]
  },
  {
   "cell_type": "markdown",
   "metadata": {
    "collapsed": true
   },
   "source": [
    "# Embeddings"
   ]
  },
  {
   "cell_type": "code",
   "execution_count": 54,
   "metadata": {
    "collapsed": true
   },
   "outputs": [],
   "source": [
    "def rmse(x,y): return math.sqrt(((x-y)**2).mean())"
   ]
  },
  {
   "cell_type": "code",
   "execution_count": 55,
   "metadata": {},
   "outputs": [
    {
     "data": {
      "text/plain": [
       "{'Coupler_System': 3,\n",
       " 'Drive_System': 5,\n",
       " 'Enclosure': 7,\n",
       " 'Hydraulics': 13,\n",
       " 'Hydraulics_Flow': 4,\n",
       " 'ModelID': 5219,\n",
       " 'ProductGroup': 7,\n",
       " 'ProductGroupDesc': 7,\n",
       " 'ProductSize': 7,\n",
       " 'Tire_Size': 18,\n",
       " 'Turbocharged': 3,\n",
       " 'YearMade': 65,\n",
       " 'fiModelDesc': 5000,\n",
       " 'fiModelDescriptor': 140,\n",
       " 'fiProductClassDesc': 75,\n",
       " 'fiSecondaryDesc': 176,\n",
       " 'saleDay': 32,\n",
       " 'saleWeek': 54,\n",
       " 'state': 54}"
      ]
     },
     "execution_count": 55,
     "metadata": {},
     "output_type": "execute_result"
    }
   ],
   "source": [
    "emb_c = {n: len(c.cat.categories)+1 for n,c in df_raw[cat_flds].items()}\n",
    "emb_c"
   ]
  },
  {
   "cell_type": "code",
   "execution_count": 56,
   "metadata": {},
   "outputs": [],
   "source": [
    "emb_szs = [(c, min(50, (c+1)//2)) for _,c in emb_c.items()]"
   ]
  },
  {
   "cell_type": "code",
   "execution_count": 57,
   "metadata": {},
   "outputs": [],
   "source": [
    "m = md.get_learner(emb_szs, len(cont_flds), 0.05, [200,1], [0.05])"
   ]
  },
  {
   "cell_type": "code",
   "execution_count": 21,
   "metadata": {},
   "outputs": [
    {
     "data": {
      "application/vnd.jupyter.widget-view+json": {
       "model_id": "436221cbbefd4e34985da6a64b60e7d4",
       "version_major": 2,
       "version_minor": 0
      },
      "text/plain": [
       "A Jupyter Widget"
      ]
     },
     "metadata": {},
     "output_type": "display_data"
    },
    {
     "name": "stdout",
     "output_type": "stream",
     "text": [
      " 58%|█████▊    | 3555/6081 [00:28<00:14, 171.50it/s, loss=1.52] "
     ]
    }
   ],
   "source": [
    "m.lr_find()"
   ]
  },
  {
   "cell_type": "code",
   "execution_count": 29,
   "metadata": {},
   "outputs": [
    {
     "data": {
      "image/png": "[encoded data removed]",
      "text/plain": [
       "<matplotlib.figure.Figure at 0x7f8d8d69f748>"
      ]
     },
     "metadata": {},
     "output_type": "display_data"
    }
   ],
   "source": [
    "m.sched.plot(1500)"
   ]
  },
  {
   "cell_type": "code",
   "execution_count": null,
   "metadata": {
    "scrolled": true
   },
   "outputs": [
    {
     "data": {
      "application/vnd.jupyter.widget-view+json": {
       "model_id": "6ebc7503ca0f4637aaf4de74179c6706",
       "version_major": 2,
       "version_minor": 0
      },
      "text/plain": [
       "A Jupyter Widget"
      ]
     },
     "metadata": {},
     "output_type": "display_data"
    },
    {
     "name": "stdout",
     "output_type": "stream",
     "text": [
      "[ 0.      0.2315  0.1107]                                       \n",
      " 67%|██████▋   | 4048/6081 [00:33<00:19, 104.75it/s, loss=0.192]"
     ]
    }
   ],
   "source": [
    "m.fit(1e-3, 3, 1e-6, cycle_len=1, cycle_mult=2)"
   ]
  },
  {
   "cell_type": "code",
   "execution_count": 35,
   "metadata": {
    "scrolled": true
   },
   "outputs": [
    {
     "data": {
      "application/vnd.jupyter.widget-view+json": {
       "model_id": "69a549df252c49fd832668fb7ec3f031",
       "version_major": 2,
       "version_minor": 0
      },
      "text/plain": [
       "A Jupyter Widget"
      ]
     },
     "metadata": {},
     "output_type": "display_data"
    },
    {
     "name": "stdout",
     "output_type": "stream",
     "text": [
      "[ 0.      0.2425  0.1306]                                       \n",
      "[ 1.      0.1699  0.1073]                                       \n",
      "[ 2.      0.1515  0.0836]                                       \n",
      "[ 3.      0.1468  0.1103]                                       \n",
      "[ 4.      0.1246  0.1202]                                       \n",
      "[ 5.      0.1025  0.0729]                                       \n",
      "[ 6.      0.0964  0.0683]                                        \n",
      "\n"
     ]
    }
   ],
   "source": [
    "m.fit(1e-3, 3, 1e-6, cycle_len=1, cycle_mult=2)"
   ]
  },
  {
   "cell_type": "code",
   "execution_count": 36,
   "metadata": {},
   "outputs": [
    {
     "data": {
      "application/vnd.jupyter.widget-view+json": {
       "model_id": "fb2581e8acdf405eb53cd8edaa7a6207",
       "version_major": 2,
       "version_minor": 0
      },
      "text/plain": [
       "A Jupyter Widget"
      ]
     },
     "metadata": {},
     "output_type": "display_data"
    },
    {
     "name": "stdout",
     "output_type": "stream",
     "text": [
      "[ 0.      0.1126  0.0746]                                        \n",
      "[ 1.      0.0977  0.0696]                                        \n",
      "[ 2.      0.0878  0.0721]                                        \n",
      "[ 3.      0.0815  0.0628]                                        \n",
      "[ 4.      0.0921  0.0872]                                        \n",
      "[ 5.      0.0837  0.0734]                                        \n",
      "[ 6.      0.0764  0.0625]                                        \n",
      "[ 7.      0.0733  0.0604]                                        \n",
      "[ 8.      0.0848  0.0699]                                        \n",
      "[ 9.      0.0747  0.0587]                                        \n",
      "[ 10.       0.0671   0.0587]                                     \n",
      "[ 11.       0.066    0.0578]                                     \n",
      "\n"
     ]
    }
   ],
   "source": [
    "m.fit(1e-3, 3, 1e-6, cycle_len=4)"
   ]
  },
  {
   "cell_type": "code",
   "execution_count": 37,
   "metadata": {},
   "outputs": [
    {
     "data": {
      "application/vnd.jupyter.widget-view+json": {
       "model_id": "8a12e763c08c425b8d64ffd1bf506c05",
       "version_major": 2,
       "version_minor": 0
      },
      "text/plain": [
       "A Jupyter Widget"
      ]
     },
     "metadata": {},
     "output_type": "display_data"
    },
    {
     "name": "stdout",
     "output_type": "stream",
     "text": [
      "[ 0.      0.0794  0.0712]                                        \n",
      "[ 1.      0.0687  0.061 ]                                        \n",
      "[ 2.      0.0697  0.0632]                                        \n",
      "[ 3.      0.0591  0.0587]                                        \n",
      "[ 4.      0.0602  0.0591]                                        \n",
      "[ 5.      0.0569  0.0579]                                        \n",
      "[ 6.      0.0558  0.0577]                                        \n",
      "[ 7.      0.0561  0.0558]                                        \n",
      "\n"
     ]
    }
   ],
   "source": [
    "m.fit(1e-3, 1, 1e-6, cycle_len=8)"
   ]
  },
  {
   "cell_type": "code",
   "execution_count": null,
   "metadata": {
    "collapsed": true
   },
   "outputs": [],
   "source": []
  },
  {
   "cell_type": "code",
   "execution_count": 39,
   "metadata": {},
   "outputs": [
    {
     "data": {
      "text/plain": [
       "0.23664319132398465"
      ]
     },
     "execution_count": 39,
     "metadata": {},
     "output_type": "execute_result"
    }
   ],
   "source": [
    "math.sqrt(.056)"
   ]
  },
  {
   "cell_type": "code",
   "execution_count": 59,
   "metadata": {},
   "outputs": [
    {
     "data": {
      "text/plain": [
       "(0.0064, 0.044521)"
      ]
     },
     "execution_count": 59,
     "metadata": {},
     "output_type": "execute_result"
    }
   ],
   "source": [
    "0.08**2, 0.211**2"
   ]
  },
  {
   "cell_type": "markdown",
   "metadata": {
    "heading_collapsed": true
   },
   "source": [
    "### Bigger model"
   ]
  },
  {
   "cell_type": "code",
   "execution_count": 147,
   "metadata": {
    "collapsed": true,
    "hidden": true
   },
   "outputs": [],
   "source": [
    "class BulldozerModel(nn.Module):\n",
    "    def __init__(self, n_cat, n_cont):\n",
    "        super().__init__()\n",
    "        self.n_cat = n_cat\n",
    "        self.embs = nn.ModuleList([\n",
    "            nn.Embedding(c, emb_sz(c)) for _,c in emb_c.items()])\n",
    "        n_emb = sum(e.embedding_dim for e in self.embs)\n",
    "        self.l1 = nn.Linear(n_emb+n_cont, 1000)\n",
    "        self.l2 = nn.Linear(1000, 500)\n",
    "        self.l3 = nn.Linear(500, 1)\n",
    "        self.d1 = nn.Dropout(0.05)\n",
    "        self.d2 = nn.Dropout(0.02)\n",
    "        self.d3 = nn.Dropout(0.2)\n",
    "        \n",
    "    def forward(self, x_cat, x_cont):\n",
    "        x = [e(x_cat[:,i]) for i,e in enumerate(self.embs)]\n",
    "        x = self.d1(torch.cat(x, 1))\n",
    "        x = torch.cat([x, x_cont], 1)\n",
    "        x = self.d2(F.relu(self.l1(x)))\n",
    "        x = self.d3(F.relu(self.l2(x)))\n",
    "        return self.l3(x)\n",
    "\n",
    "m=BulldozerModel(len(cat_flds), len(cont_flds)).cuda()\n",
    "opt = optim.Adam(m.parameters(), 1e-3)"
   ]
  },
  {
   "cell_type": "code",
   "execution_count": 148,
   "metadata": {
    "hidden": true,
    "scrolled": false
   },
   "outputs": [
    {
     "data": {
      "application/vnd.jupyter.widget-view+json": {
       "model_id": "20ba6a2adba44cbb864e2ce75d937d4b",
       "version_major": 2,
       "version_minor": 0
      },
      "text/plain": [
       "A Jupyter Widget"
      ]
     },
     "metadata": {},
     "output_type": "display_data"
    },
    {
     "name": "stdout",
     "output_type": "stream",
     "text": [
      "[ 0.      0.2549  0.4578]                                       \n",
      "[ 1.      0.1942  0.0954]                                       \n",
      "[ 2.      0.1656  0.1121]                                       \n",
      "[ 3.      0.1451  0.1221]                                       \n",
      "\n"
     ]
    }
   ],
   "source": [
    "fit(m, md, 4, opt, F.mse_loss)"
   ]
  },
  {
   "cell_type": "code",
   "execution_count": 149,
   "metadata": {
    "collapsed": true,
    "hidden": true
   },
   "outputs": [],
   "source": [
    "set_lrs(opt,1e-4)"
   ]
  },
  {
   "cell_type": "code",
   "execution_count": 150,
   "metadata": {
    "hidden": true
   },
   "outputs": [
    {
     "data": {
      "application/vnd.jupyter.widget-view+json": {
       "model_id": "924161a6364e48a5b792f788d44a6fc9",
       "version_major": 2,
       "version_minor": 0
      },
      "text/plain": [
       "A Jupyter Widget"
      ]
     },
     "metadata": {},
     "output_type": "display_data"
    },
    {
     "name": "stdout",
     "output_type": "stream",
     "text": [
      "[ 0.      0.1198  0.0687]                                       \n",
      "\n"
     ]
    }
   ],
   "source": [
    "fit(m, md, 1, opt, F.mse_loss)"
   ]
  },
  {
   "cell_type": "code",
   "execution_count": 151,
   "metadata": {
    "collapsed": true,
    "hidden": true
   },
   "outputs": [],
   "source": [
    "set_lrs(opt,1e-3)"
   ]
  },
  {
   "cell_type": "code",
   "execution_count": 152,
   "metadata": {
    "hidden": true,
    "scrolled": false
   },
   "outputs": [
    {
     "data": {
      "application/vnd.jupyter.widget-view+json": {
       "model_id": "df698094b2b4474bb0263aad324a31a5",
       "version_major": 2,
       "version_minor": 0
      },
      "text/plain": [
       "A Jupyter Widget"
      ]
     },
     "metadata": {},
     "output_type": "display_data"
    },
    {
     "name": "stdout",
     "output_type": "stream",
     "text": [
      "[ 0.      0.1224  0.0751]                                       \n",
      "[ 1.      0.107   0.1161]                                       \n",
      "\n"
     ]
    }
   ],
   "source": [
    "fit(m, md, 2, opt, F.mse_loss)"
   ]
  },
  {
   "cell_type": "code",
   "execution_count": 153,
   "metadata": {
    "collapsed": true,
    "hidden": true
   },
   "outputs": [],
   "source": [
    "set_lrs(opt,1e-4)"
   ]
  },
  {
   "cell_type": "code",
   "execution_count": 154,
   "metadata": {
    "hidden": true
   },
   "outputs": [
    {
     "data": {
      "application/vnd.jupyter.widget-view+json": {
       "model_id": "0b7b50bcb9584037b21b2d29416e3189",
       "version_major": 2,
       "version_minor": 0
      },
      "text/plain": [
       "A Jupyter Widget"
      ]
     },
     "metadata": {},
     "output_type": "display_data"
    },
    {
     "name": "stdout",
     "output_type": "stream",
     "text": [
      "[ 0.      0.1007  0.0671]                                        \n",
      "[ 1.      0.0958  0.068 ]                                        \n",
      "[ 2.      0.0906  0.0676]                                        \n",
      "\n"
     ]
    }
   ],
   "source": [
    "fit(m, md, 3, opt, F.mse_loss)"
   ]
  },
  {
   "cell_type": "code",
   "execution_count": null,
   "metadata": {
    "collapsed": true,
    "hidden": true
   },
   "outputs": [],
   "source": []
  }
 ],
 "metadata": {
  "kernelspec": {
   "display_name": "Python 3",
   "language": "python",
   "name": "python3"
  },
  "language_info": {
   "codemirror_mode": {
    "name": "ipython",
    "version": 3
   },
   "file_extension": ".py",
   "mimetype": "text/x-python",
   "name": "python",
   "nbconvert_exporter": "python",
   "pygments_lexer": "ipython3",
   "version": "3.6.2"
  },
  "toc": {
   "colors": {
    "hover_highlight": "#DAA520",
    "navigate_num": "#000000",
    "navigate_text": "#333333",
    "running_highlight": "#FF0000",
    "selected_highlight": "#FFD700",
    "sidebar_border": "#EEEEEE",
    "wrapper_background": "#FFFFFF"
   },
   "moveMenuLeft": true,
   "nav_menu": {
    "height": "512px",
    "width": "252px"
   },
   "navigate_menu": true,
   "number_sections": true,
   "sideBar": true,
   "threshold": 4,
   "toc_cell": false,
   "toc_section_display": "block",
   "toc_window_display": false,
   "widenNotebook": false
  }
 },
 "nbformat": 4,
 "nbformat_minor": 2
}
